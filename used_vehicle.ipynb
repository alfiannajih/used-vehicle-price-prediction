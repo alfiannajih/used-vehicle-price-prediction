{
 "cells": [
  {
   "cell_type": "markdown",
   "id": "b90fd5e9",
   "metadata": {},
   "source": [
    "# Table of Contents\n",
    "\n",
    "- [Preparation](#preparation)\n",
    "    - [Import Library](#import_library)\n",
    "    - [Import Data](#import_data)\n",
    "- [Exploratory Data Analysis and Data Cleaning](#eda_and_clean)\n",
    "    - [Columns Name](#col_name)\n",
    "    - [Columns Data Type](#col_data_type)\n",
    "        - [Kilometres Column](#kilometres_col_dtype)\n",
    "        - [Doors Column](#doors_col_dtype)\n",
    "        - [City Column](#city_col_dtype)\n",
    "        - [Highway Column](#highway_col_dtype)\n",
    "    - [Turn Other/Donât Know into NaN Values](#other_to_nan)\n",
    "    - [Check Missing Values](#missing_values)\n",
    "    - [Data Distribution](#data_distribution)\n",
    "        - [Categorical Data](#cat_distribution)\n",
    "            - [Correcting Drivetrain](#correcting_drivetrain)\n",
    "            - [Correcting FuelType](#correcting_fuel_type)\n",
    "        - [Numerical Data](#num_distribution)\n",
    "            - [Descriptive Statistics](#desc_stats)\n",
    "                - [Drop Invalid Year](#invalid_year)\n",
    "- [Data Preprocessing](#data_preprocessing)\n",
    "- [Train Test Split](#train_test_split)"
   ]
  },
  {
   "cell_type": "markdown",
   "id": "cb4ee424",
   "metadata": {},
   "source": [
    "# Preparation <a name='preparation'></a>"
   ]
  },
  {
   "cell_type": "markdown",
   "id": "a13f0c9a",
   "metadata": {},
   "source": [
    "## Import Library <a name='import_library'></a>"
   ]
  },
  {
   "cell_type": "code",
   "execution_count": 1,
   "id": "67c8e751",
   "metadata": {},
   "outputs": [],
   "source": [
    "import numpy as np\n",
    "import pandas as pd\n",
    "import seaborn as sns\n",
    "from matplotlib import pyplot as plt\n",
    "from zipfile import ZipFile"
   ]
  },
  {
   "cell_type": "markdown",
   "id": "b3a8b560",
   "metadata": {},
   "source": [
    "## Import Data <a name='import_data'></a>"
   ]
  },
  {
   "cell_type": "code",
   "execution_count": 2,
   "id": "7f33fb77",
   "metadata": {},
   "outputs": [],
   "source": [
    "with ZipFile('used-vehicles-for-sale.zip') as raw_zip:\n",
    "    raw_zip.extractall(path='datasets')\n",
    "    \n",
    "    file_name = raw_zip.namelist()\n",
    "    \n",
    "    raw_data = []\n",
    "    \n",
    "    for file in file_name:\n",
    "        try:\n",
    "            raw_data.append(pd.read_csv(f'datasets/{file}'))\n",
    "        except UnicodeDecodeError:\n",
    "            print(f'{file}: Wrong format file')\n",
    "        \n",
    "    print(file_name)"
   ]
  },
  {
   "cell_type": "code",
   "execution_count": 3,
   "id": "53300080",
   "metadata": {},
   "outputs": [],
   "source": [
    "raw_data[0].head()"
   ]
  },
  {
   "cell_type": "code",
   "execution_count": 4,
   "id": "d7f37d28",
   "metadata": {},
   "outputs": [],
   "source": [
    "full_data = raw_data[0].iloc[:, 1:]\n",
    "\n",
    "full_data.head()"
   ]
  },
  {
   "cell_type": "markdown",
   "id": "18e9605f",
   "metadata": {},
   "source": [
    "# Exploratory Data Analysis and Data Cleaning <a name='eda_and_clean'></a>"
   ]
  },
  {
   "cell_type": "markdown",
   "id": "268106bb",
   "metadata": {},
   "source": [
    "## Columns Name <a name='col_name'></a>"
   ]
  },
  {
   "cell_type": "code",
   "execution_count": 5,
   "id": "9748cd3d",
   "metadata": {},
   "outputs": [],
   "source": [
    "full_data.columns"
   ]
  },
  {
   "cell_type": "markdown",
   "id": "f47c7c70",
   "metadata": {},
   "source": [
    "*Warning: Some of column name contains space in the beginning. Hence we will remove it*"
   ]
  },
  {
   "cell_type": "code",
   "execution_count": 6,
   "id": "bc95f8e8",
   "metadata": {},
   "outputs": [],
   "source": [
    "full_data.columns = full_data.columns.str.replace(' ', '')\n",
    "\n",
    "full_data.columns"
   ]
  },
  {
   "cell_type": "markdown",
   "id": "e55255d1",
   "metadata": {},
   "source": [
    "Columns Information\n",
    "1. `Year`: The year of the vehicle (year release)\n",
    "2. `Make`: The make of the vehicle (brand)\n",
    "3. `Model`: The model of the vehicle\n",
    "4. `Kilometres`: The distance the vehicle has travelled in Kilometeres\n",
    "5. `BodyType`: The type of Body the vehicle has\n",
    "6. `Engine`: Type of Engine in the vehicle\n",
    "7. `Transmission`: Transmission used in the vehicle\n",
    "8. `Drivertrain`: Drivetrain configuration of the vehicle\n",
    "9. `ExteriorColour`: Exterior Colour of the vehicle\n",
    "10. `InteriorColour`: Interior Colour of the vehicle.\n",
    "11. `Passengers`: Passengers capacity\n",
    "12. `Doors`: The number of doors\n",
    "13. `Fuel Type`: Fuel type of the vehicle\n",
    "14. `City`: Fuel used per 100 km in city\n",
    "15. `Highway`: Fuel used per 100 km in highway\n",
    "16. `Price`: Price of the vehicle in 2023"
   ]
  },
  {
   "cell_type": "markdown",
   "id": "40e037a2",
   "metadata": {},
   "source": [
    "## Columns Data Type <a name='col_data_type'></a>"
   ]
  },
  {
   "cell_type": "code",
   "execution_count": 7,
   "id": "3a0a4549",
   "metadata": {},
   "outputs": [],
   "source": [
    "full_data.info()"
   ]
  },
  {
   "cell_type": "markdown",
   "id": "6d01a948",
   "metadata": {},
   "source": [
    "Based on the columns information, `Kilometres`, `Doors`, `City`, and `Highway` should be a numeric data type. Let's inspect it one by one."
   ]
  },
  {
   "cell_type": "markdown",
   "id": "25d03821",
   "metadata": {},
   "source": [
    "### Kilometres Column <a name='kilometres_column_dtype'></a>"
   ]
  },
  {
   "cell_type": "code",
   "execution_count": 8,
   "id": "9ce48062",
   "metadata": {},
   "outputs": [],
   "source": [
    "full_data['Kilometres']"
   ]
  },
  {
   "cell_type": "markdown",
   "id": "ca5aaaa0",
   "metadata": {},
   "source": [
    "The problem is the data contains string 'km', hence pandas treat it as object data type. Let's check if all rows contains 'km'."
   ]
  },
  {
   "cell_type": "code",
   "execution_count": 9,
   "id": "2859436e",
   "metadata": {},
   "outputs": [],
   "source": [
    "full_data['Kilometres'].str.contains('km').value_counts()"
   ]
  },
  {
   "cell_type": "markdown",
   "id": "8afdec57",
   "metadata": {},
   "source": [
    "All rows contains 'km', so we will remove it and then convert the column data type into float."
   ]
  },
  {
   "cell_type": "code",
   "execution_count": 10,
   "id": "5ddd6c5e",
   "metadata": {},
   "outputs": [],
   "source": [
    "full_data['Kilometres'] = full_data['Kilometres'].str.replace(' km', '').astype(float)"
   ]
  },
  {
   "cell_type": "markdown",
   "id": "e657072f",
   "metadata": {},
   "source": [
    "### Doors Column <a name='doors_column_dtype'></a>"
   ]
  },
  {
   "cell_type": "code",
   "execution_count": 11,
   "id": "a66a0100",
   "metadata": {},
   "outputs": [],
   "source": [
    "full_data['Doors']"
   ]
  },
  {
   "cell_type": "code",
   "execution_count": 12,
   "id": "55658af8",
   "metadata": {},
   "outputs": [],
   "source": [
    "full_data['Doors'].value_counts()"
   ]
  },
  {
   "cell_type": "markdown",
   "id": "9300b846",
   "metadata": {},
   "source": [
    "Same as previous column, the problem is there some rows contains string."
   ]
  },
  {
   "cell_type": "code",
   "execution_count": 13,
   "id": "bbc86ebf",
   "metadata": {},
   "outputs": [],
   "source": [
    "full_data['Doors'] = pd.to_numeric(\n",
    "    full_data['Doors'].str.replace(' doors', ''),\n",
    "    errors='coerce'\n",
    ").astype('Int64')"
   ]
  },
  {
   "cell_type": "markdown",
   "id": "f9a2f936",
   "metadata": {},
   "source": [
    "We use `pd.to_numeric` instead of `astype` like the previous one, it's because `pd.to_numeric` can handle invalid input i.e. `Other/Donât Know` and turn them into `NaN` value, after that we use `astype` to convert the data type into `Int64` because it can handle nullable int data.\n",
    "\n",
    "**Note: Since there are some rows that contains `Other/Donât Know`, we should check other columns, if they contains it or not, and then turn them into `NaN` values.**"
   ]
  },
  {
   "cell_type": "markdown",
   "id": "c5679dd5",
   "metadata": {},
   "source": [
    "### City Column <a name='city_column_dtype'></a>"
   ]
  },
  {
   "cell_type": "code",
   "execution_count": 14,
   "id": "7d0abb25",
   "metadata": {},
   "outputs": [],
   "source": [
    "full_data['City']"
   ]
  },
  {
   "cell_type": "code",
   "execution_count": 15,
   "id": "775857ac",
   "metadata": {},
   "outputs": [],
   "source": [
    "full_data['City'].str.contains('100km').value_counts()"
   ]
  },
  {
   "cell_type": "markdown",
   "id": "2dbf2fa4",
   "metadata": {},
   "source": [
    "It all contains '100km', just in case if some rows contains space, let's remove the space to make sure we can remove 'L/100km'."
   ]
  },
  {
   "cell_type": "code",
   "execution_count": 16,
   "id": "c9fabc69",
   "metadata": {},
   "outputs": [],
   "source": [
    "city_no_str = full_data['City'].str.replace(' ', '').str.replace('L/100km', '')\n",
    "\n",
    "city_no_str"
   ]
  },
  {
   "cell_type": "code",
   "execution_count": 17,
   "id": "0d640e46",
   "metadata": {},
   "outputs": [],
   "source": [
    "city_no_str.value_counts()"
   ]
  },
  {
   "cell_type": "markdown",
   "id": "9249412d",
   "metadata": {},
   "source": [
    "It turns out some rows contains '-', let's take the last number and ditch the first number. Here are the steps:\n",
    "1. We split the string based on '-' and expand it to dataframe, so there will be 2 columns, we store it in variable called `city_split`\n",
    "2. The rows that doesn't contains '-', their column 1 would be null, hence we use it as `city_mask`\n",
    "3. We filter the splitted data by `city_mask` and shift the data in column 0 to column 1\n",
    "4. Finally we only take the column 1 and convert it to float"
   ]
  },
  {
   "cell_type": "code",
   "execution_count": 18,
   "id": "695aeb3d",
   "metadata": {},
   "outputs": [],
   "source": [
    "# step 1\n",
    "city_split = city_no_str.str.split('-', expand=True)\n",
    "\n",
    "# step 2\n",
    "city_mask = city_split[1].isnull()\n",
    "\n",
    "# step 3\n",
    "city_split[city_mask] = city_split[city_mask].shift(axis=1)\n",
    "\n",
    "# step 4\n",
    "full_data['City'] = city_split[1].astype(float)"
   ]
  },
  {
   "cell_type": "markdown",
   "id": "d628784b",
   "metadata": {},
   "source": [
    "### Highway Column <a name='highway_column_dtype'></a>"
   ]
  },
  {
   "cell_type": "markdown",
   "id": "e582b0ef",
   "metadata": {},
   "source": [
    "Since this columns similar to `City` column, we will perform the same steps."
   ]
  },
  {
   "cell_type": "code",
   "execution_count": 19,
   "id": "b05f23d8",
   "metadata": {},
   "outputs": [],
   "source": [
    "full_data['Highway']"
   ]
  },
  {
   "cell_type": "code",
   "execution_count": 20,
   "id": "0846bc7d",
   "metadata": {},
   "outputs": [],
   "source": [
    "highway_no_str = full_data['Highway'].str.replace(' ', '').str.replace('L/100km', '')\n",
    "\n",
    "# step 1\n",
    "highway_split = highway_no_str.str.split('-', expand=True)\n",
    "\n",
    "# step 2\n",
    "highway_mask = highway_split[1].isnull()\n",
    "\n",
    "# step 3\n",
    "highway_split[highway_mask] = highway_split[highway_mask].shift(axis=1)\n",
    "\n",
    "# step 4\n",
    "full_data['Highway'] = highway_split[1].astype(float)"
   ]
  },
  {
   "cell_type": "markdown",
   "id": "d624cca8",
   "metadata": {},
   "source": [
    "All done! Let's check the data type again"
   ]
  },
  {
   "cell_type": "code",
   "execution_count": 21,
   "id": "6457b240",
   "metadata": {
    "scrolled": false
   },
   "outputs": [],
   "source": [
    "full_data.info()"
   ]
  },
  {
   "cell_type": "markdown",
   "id": "7d08097b",
   "metadata": {},
   "source": [
    "## Turn `Other/Donât Know` into `NaN` Values <a name='other_to_nan'></a>"
   ]
  },
  {
   "cell_type": "markdown",
   "id": "ed5a7ab5",
   "metadata": {},
   "source": [
    "We will inspect the columns with the type of `object`."
   ]
  },
  {
   "cell_type": "code",
   "execution_count": 22,
   "id": "e75efd01",
   "metadata": {},
   "outputs": [],
   "source": [
    "for column in full_data.select_dtypes(include='object').columns:\n",
    "    temp_other_sum = full_data.select_dtypes(include='object')[column].str.contains('other', case=False).sum()\n",
    "    \n",
    "    print(f'{column} contains {temp_other_sum} \"other\" values')"
   ]
  },
  {
   "cell_type": "markdown",
   "id": "e634f3bc",
   "metadata": {},
   "source": [
    "Let's turn rows from `FuelType` that contains `Other/Donât Know` into `NaN` values."
   ]
  },
  {
   "cell_type": "code",
   "execution_count": 23,
   "id": "aef836e1",
   "metadata": {},
   "outputs": [],
   "source": [
    "mask_fuel_type = full_data['FuelType'].str.contains('other', case=False, na=False)\n",
    "\n",
    "full_data['FuelType'][mask_fuel_type] = None"
   ]
  },
  {
   "cell_type": "markdown",
   "id": "c740b024",
   "metadata": {},
   "source": [
    "## Check Missing Values <a name='missing_values'></a>"
   ]
  },
  {
   "cell_type": "code",
   "execution_count": 24,
   "id": "c6efcdab",
   "metadata": {
    "scrolled": false
   },
   "outputs": [],
   "source": [
    "print(f'''\n",
    "Missing values ratio for each columns:\n",
    "\n",
    "{(full_data.isnull().sum()/len(full_data)).sort_values(ascending=False) }''')"
   ]
  },
  {
   "cell_type": "markdown",
   "id": "1cc1865d",
   "metadata": {},
   "source": [
    "About half rows in `Passengers` column is missing."
   ]
  },
  {
   "cell_type": "code",
   "execution_count": 25,
   "id": "4153bebe",
   "metadata": {},
   "outputs": [],
   "source": [
    "full_data = full_data.drop('Passengers', axis=1)"
   ]
  },
  {
   "cell_type": "markdown",
   "id": "f7c06946",
   "metadata": {},
   "source": [
    "## Data Distribution <a name='data_distribution'></a>"
   ]
  },
  {
   "cell_type": "markdown",
   "id": "08fcd8c9",
   "metadata": {},
   "source": [
    "### Categorical Data <a name='cat_distribution'></a>"
   ]
  },
  {
   "cell_type": "code",
   "execution_count": 26,
   "id": "0a9cc543",
   "metadata": {},
   "outputs": [],
   "source": [
    "full_cat_data = full_data.select_dtypes(include='object')\n",
    "\n",
    "full_cat_data.head()"
   ]
  },
  {
   "cell_type": "markdown",
   "id": "08e9b523",
   "metadata": {},
   "source": [
    "Before we visualize the data distribution, let's check the unique values for each columns and we only visualize the columns with certain number of unique values."
   ]
  },
  {
   "cell_type": "code",
   "execution_count": 27,
   "id": "d94bca19",
   "metadata": {},
   "outputs": [],
   "source": [
    "full_cat_data.nunique()"
   ]
  },
  {
   "cell_type": "markdown",
   "id": "d819dfbf",
   "metadata": {},
   "source": [
    "Let's visualize these columns: `Make`, `BodyType`, `Transmission`, `Drivetrain`, `InteriorColour`, and `FuelType`"
   ]
  },
  {
   "cell_type": "code",
   "execution_count": 28,
   "id": "afa58301",
   "metadata": {
    "scrolled": false
   },
   "outputs": [],
   "source": [
    "for column in ['Make', 'BodyType', 'Transmission', 'Drivetrain', 'InteriorColour', 'FuelType']:\n",
    "    full_cat_data[column].value_counts().plot(\n",
    "        kind='bar',\n",
    "        title=f'{column} Distribution',\n",
    "        rot=75,\n",
    "        figsize=(10, 4)\n",
    "    )\n",
    "    plt.show()"
   ]
  },
  {
   "cell_type": "markdown",
   "id": "6aed9cc0",
   "metadata": {},
   "source": [
    "Some of values from `Drivetrain` and `FuelType` column have same term but different name e.g. in column `FuelType` the value 'Gas', 'Gasoline', 'Gasoline Fuel', and 'Gaseous Fuel Compatible' have same term, which is 'Gasoline'."
   ]
  },
  {
   "cell_type": "markdown",
   "id": "64c195ab",
   "metadata": {},
   "source": [
    "In `Transmission` column, we will do some transformation in [Data Preprocessing](#data_preprocessing) section."
   ]
  },
  {
   "cell_type": "markdown",
   "id": "29077fbf",
   "metadata": {},
   "source": [
    "#### Correcting Drivetrain <a name='correcting_drivetrain'></a>"
   ]
  },
  {
   "cell_type": "code",
   "execution_count": 29,
   "id": "f989fbfe",
   "metadata": {},
   "outputs": [],
   "source": [
    "full_cat_data['Drivetrain'].unique()"
   ]
  },
  {
   "cell_type": "markdown",
   "id": "3de98a87",
   "metadata": {},
   "source": [
    "The values '4X4', '4x4', and '4WD' have a same term, which is '4WD'. While '2WD' can be either 'FWD' or 'RWD', so we can't decide it what is the true for it, hence we will convert it to null values. We will map those invalid values to valid values."
   ]
  },
  {
   "cell_type": "code",
   "execution_count": 30,
   "id": "0af649a7",
   "metadata": {},
   "outputs": [],
   "source": [
    "drivetrain_map = {\n",
    "    'AWD': 'AWD',\n",
    "    'FWD': 'FWD',\n",
    "    'RWD': 'RWD',\n",
    "    '4WD': '4WD',\n",
    "    '4X4': '4WD',\n",
    "    '4x4': '4WD',\n",
    "    '2WD': None\n",
    "}\n",
    "\n",
    "full_cat_data['Drivetrain'] = full_cat_data['Drivetrain'].map(drivetrain_map)"
   ]
  },
  {
   "cell_type": "markdown",
   "id": "7f779f61",
   "metadata": {},
   "source": [
    "#### Correcting FuelType <a name='correcting_fuel_type'></a>"
   ]
  },
  {
   "cell_type": "code",
   "execution_count": 31,
   "id": "77717548",
   "metadata": {},
   "outputs": [],
   "source": [
    "full_cat_data['FuelType'].value_counts()"
   ]
  },
  {
   "cell_type": "markdown",
   "id": "3a728530",
   "metadata": {},
   "source": [
    "For `FuelType` column let's we rewrite it in mathematical terms, we write a function that mapping those input into valid input:\n",
    "\n",
    "$ f(x):raw\\_input \\rightarrow valid\\_input $\n",
    "\n",
    "Where $raw\\_input$ is the unique values from `FuelType` column, while $valid\\_input = \\{'Gasoline',\\;'Hybrid',\\;'Flexible',\\;'Diesel',\\;'Electric',\\;'Regular\\;Unleaded',\\;'Premium\\;Unleaded'\\}$\n",
    "\n",
    "$ f(x)=   \\left\\{\n",
    "\\begin{array}{ll}\n",
    "      'Gasoline' & x \\in \\{'Gas',\\;'Gasoline',\\;'Gasoline\\;Fuel',\\;'Gaseous\\;Fuel\\;Compatible'\\} \\\\\n",
    "      'Hybrid' & x \\in \\{'Gasoline\\;Hybrid',\\;'Gas/Electric\\;Hybrid'\\} \\\\\n",
    "      'Flexible' & x \\in \\{'Flexible',\\;'E85-\\;Gasoline(Flex\\;Fuel)'\\} \\\\\n",
    "      'Diesel' & x \\in \\{'Diesel'\\} \\\\\n",
    "      'Electric' & x \\in \\{'Electric'\\} \\\\\n",
    "      'Regular\\;Unleaded' & x \\in \\{'Regular\\;Unleaded'\\} \\\\\n",
    "      'Premium\\;Unleaded' & x \\in \\{'Premium\\;Unleaded'\\} \\\\\n",
    "      None & Otherwise\n",
    "\\end{array} \n",
    "\\right.  $\n",
    "\n",
    "Let's implement it in the code."
   ]
  },
  {
   "cell_type": "code",
   "execution_count": 32,
   "id": "e2c149ad",
   "metadata": {},
   "outputs": [],
   "source": [
    "domain_gas = ['Gas', 'Gasoline', 'Gasoline Fuel', 'Gaseous Fuel Compatible']\n",
    "domain_hybrid = ['Gasoline Hybrid', 'Gas/Electric Hybrid']\n",
    "domain_flexible = ['Flexible', 'E85- Gasoline(Flex Fuel)']\n",
    "\n",
    "gas_map = dict.fromkeys(domain_gas, 'Gasoline')\n",
    "hybrid_map = dict.fromkeys(domain_hybrid, 'Hybrid')\n",
    "flexible_map = dict.fromkeys(domain_flexible, 'Flexible')\n",
    "\n",
    "fuel_type_map = {\n",
    "    **gas_map,\n",
    "    **hybrid_map,\n",
    "    **flexible_map,\n",
    "    'Diesel': 'Diesel',\n",
    "    'Electric': 'Electric',\n",
    "    'Regular Unleaded': 'Regular Unleaded',\n",
    "    'Premium Unleaded': 'Premium Unleaded'\n",
    "}\n",
    "\n",
    "full_cat_data['FuelType'] = full_cat_data['FuelType'].map(fuel_type_map)"
   ]
  },
  {
   "cell_type": "markdown",
   "id": "1912a4b4",
   "metadata": {},
   "source": [
    "### Numerical Data <a name='num_distribution'></a>"
   ]
  },
  {
   "cell_type": "code",
   "execution_count": 33,
   "id": "d012c703",
   "metadata": {},
   "outputs": [],
   "source": [
    "full_num_data = full_data.select_dtypes(exclude='object')\n",
    "\n",
    "full_num_data.head()"
   ]
  },
  {
   "cell_type": "code",
   "execution_count": 34,
   "id": "38e8c2e9",
   "metadata": {},
   "outputs": [],
   "source": [
    "full_num_data.hist(\n",
    "    bins=50,\n",
    "    figsize=(18, 12)\n",
    ")\n",
    "\n",
    "plt.show()"
   ]
  },
  {
   "cell_type": "markdown",
   "id": "b00d7ab0",
   "metadata": {},
   "source": [
    "There is some outliers in `Kilometres`, `City`, `Highway`, and `Price`, let's remove them"
   ]
  },
  {
   "cell_type": "markdown",
   "id": "b478b978",
   "metadata": {},
   "source": [
    "#### Remove Outliers"
   ]
  },
  {
   "cell_type": "code",
   "execution_count": 35,
   "id": "8eefd889",
   "metadata": {},
   "outputs": [],
   "source": [
    "def detect_outliers(data):\n",
    "    q_3 = np.nanquantile(data, 0.75)\n",
    "    q_1 = np.nanquantile(data, 0.25)\n",
    "        \n",
    "    inter_q = q_3 - q_1\n",
    "\n",
    "    upper_bound = q_3 + (1.5*inter_q)\n",
    "    lower_bound = q_1 - (1.5*inter_q)\n",
    "    \n",
    "    return np.logical_or(data < lower_bound, data > upper_bound)\n",
    "\n",
    "for column in ['Kilometres', 'City', 'Highway', 'Price']:\n",
    "    full_num_data = full_num_data.drop(\n",
    "        full_num_data[column][detect_outliers(full_num_data[column])].index,\n",
    "        errors='ignore'\n",
    "    )"
   ]
  },
  {
   "cell_type": "markdown",
   "id": "415aa594",
   "metadata": {},
   "source": [
    "#### Descriptive Statistics <a name='desc_stats'></a>"
   ]
  },
  {
   "cell_type": "code",
   "execution_count": 36,
   "id": "227041b9",
   "metadata": {},
   "outputs": [],
   "source": [
    "full_num_data.describe()"
   ]
  },
  {
   "cell_type": "markdown",
   "id": "e8ba1619",
   "metadata": {},
   "source": [
    "Hold on, the maximum value of `Year` column is 2024, which is exceed current year (2023), we will drop those rows."
   ]
  },
  {
   "cell_type": "markdown",
   "id": "c6ecf441",
   "metadata": {},
   "source": [
    "##### Drop Invalid `Year` <a name='invalid_year'></a>"
   ]
  },
  {
   "cell_type": "code",
   "execution_count": 37,
   "id": "8b6e585a",
   "metadata": {},
   "outputs": [],
   "source": [
    "mask_year = full_num_data['Year'] > 2023\n",
    "\n",
    "full_num_data = full_num_data.drop(full_num_data['Year'][mask_year].index).reset_index(drop=True)"
   ]
  },
  {
   "cell_type": "markdown",
   "id": "c3aac551",
   "metadata": {},
   "source": [
    "#### Correlation"
   ]
  },
  {
   "cell_type": "code",
   "execution_count": 38,
   "id": "6bb60d32",
   "metadata": {},
   "outputs": [],
   "source": [
    "sns.heatmap(\n",
    "    full_num_data.corr(),\n",
    "    annot=True,\n",
    "    vmin=-1,\n",
    "    vmax=1\n",
    ")"
   ]
  },
  {
   "cell_type": "markdown",
   "id": "8924aaa3",
   "metadata": {},
   "source": [
    "Before go to the Data Preprocessing section, let's combine the `full_num_data` and `full_cat_data` into one called `full_data`"
   ]
  },
  {
   "cell_type": "code",
   "execution_count": 39,
   "id": "dc3bf6c1",
   "metadata": {},
   "outputs": [],
   "source": [
    "full_data = pd.concat([full_num_data, full_cat_data.iloc[full_num_data.index, :]], axis=1)\n",
    "\n",
    "full_data.head()"
   ]
  },
  {
   "cell_type": "markdown",
   "id": "96f92c97",
   "metadata": {},
   "source": [
    "# Data Preprocessing <a name='data_preprocessing'></a>"
   ]
  },
  {
   "cell_type": "markdown",
   "id": "485931f2",
   "metadata": {},
   "source": [
    "## Train Test Split <a name='train_test_split'></a>"
   ]
  },
  {
   "cell_type": "code",
   "execution_count": 40,
   "id": "af17168e",
   "metadata": {},
   "outputs": [],
   "source": [
    "from sklearn.model_selection import train_test_split\n",
    "\n",
    "X = full_data.drop('Price', axis=1)\n",
    "y = full_data[['Price']]\n",
    "\n",
    "X_train, X_test, y_train, y_test = train_test_split(\n",
    "    X,\n",
    "    y,\n",
    "    test_size=0.2,\n",
    "    random_state=1\n",
    ")"
   ]
  },
  {
   "cell_type": "code",
   "execution_count": 41,
   "id": "43e25dd8",
   "metadata": {},
   "outputs": [],
   "source": [
    "X_train_num = X_train.select_dtypes(exclude='object')\n",
    "X_train_cat = X_train.select_dtypes(include='object')"
   ]
  },
  {
   "cell_type": "markdown",
   "id": "cdd7927d",
   "metadata": {},
   "source": [
    "## Categorical Pipeline"
   ]
  },
  {
   "cell_type": "markdown",
   "id": "a3495016",
   "metadata": {},
   "source": [
    "### Transmission Transformation"
   ]
  },
  {
   "cell_type": "code",
   "execution_count": 42,
   "id": "795e1fbd",
   "metadata": {},
   "outputs": [],
   "source": [
    "X_train['Transmission'].unique()"
   ]
  },
  {
   "cell_type": "markdown",
   "id": "709ecf03",
   "metadata": {},
   "source": [
    "We will transform `Transmission` column into 2 columns called `MainTransmission` which contains $\\{'Manual',\\;'Automatic',\\;'CVT'\\}$ and `SpeedTransmission` which contains the number of speed from transmission."
   ]
  },
  {
   "cell_type": "code",
   "execution_count": 43,
   "id": "e352b566",
   "metadata": {},
   "outputs": [],
   "source": [
    "from sklearn.pipeline import make_pipeline\n",
    "from sklearn.base import BaseEstimator, TransformerMixin\n",
    "\n",
    "class TransmissionTransform(BaseEstimator, TransformerMixin):\n",
    "    def fit(self, X, y=None):\n",
    "        return self\n",
    "    \n",
    "    def transform(self, X, y=None):\n",
    "        main_transmission_temp = X['Transmission']\n",
    "        \n",
    "        for item in ['manual', 'automatic', 'cvt']:\n",
    "            index_transmission = X['Transmission'].str.contains(item, case=False, na=False)\n",
    "            \n",
    "            main_transmission_temp[index_transmission] = item\n",
    "            \n",
    "        speed_transmission = pd.to_numeric(X_train['Transmission'].str.split(expand=True)[0], errors='coerce')\n",
    "        \n",
    "        X['MainTransmission'] = main_transmission_temp\n",
    "        X['SpeedTransmission'] = speed_transmission\n",
    "        \n",
    "        return X.drop('Transmission', axis=1)"
   ]
  },
  {
   "cell_type": "markdown",
   "id": "17ff8fd5",
   "metadata": {},
   "source": [
    "### Encoding Categorical"
   ]
  },
  {
   "cell_type": "code",
   "execution_count": 44,
   "id": "94de15f3",
   "metadata": {},
   "outputs": [],
   "source": [
    "from sklearn.compose import ColumnTransformer\n",
    "from sklearn.impute import SimpleImputer\n",
    "from sklearn.preprocessing import OneHotEncoder, StandardScaler\n",
    "\n",
    "categorical_impute = SimpleImputer(\n",
    "    strategy='most_frequent'\n",
    ")\n",
    "\n",
    "speed_transmission_impute = SimpleImputer(\n",
    "    strategy='constant',\n",
    "    fill_value=0\n",
    ")\n",
    "\n",
    "one_hot_enc = OneHotEncoder(\n",
    "    handle_unknown='ignore',\n",
    "    min_frequency=0.001\n",
    ")\n",
    "\n",
    "cat_enc_pipeline = make_pipeline(\n",
    "    categorical_impute,\n",
    "    one_hot_enc\n",
    ")\n",
    "\n",
    "cat_columns = ['Make', 'Model', 'BodyType', 'Engine', 'Drivetrain', 'ExteriorColour',\n",
    "               'InteriorColour', 'FuelType', 'MainTransmission']\n",
    "\n",
    "impute_and_encode = ColumnTransformer([\n",
    "    ('EncodingCategorical', cat_enc_pipeline, cat_columns),\n",
    "    ('SpeedTransmissionImpute', speed_transmission_impute, ['SpeedTransmission'])\n",
    "])\n",
    "\n",
    "cat_pipeline = make_pipeline(\n",
    "    TransmissionTransform(),\n",
    "    impute_and_encode\n",
    ")\n",
    "\n",
    "cat_pipeline"
   ]
  },
  {
   "cell_type": "markdown",
   "id": "8684087f",
   "metadata": {},
   "source": [
    "### Categorical Feature Selection"
   ]
  },
  {
   "cell_type": "code",
   "execution_count": 45,
   "id": "9b2f2905",
   "metadata": {},
   "outputs": [],
   "source": [
    "from sklearn.feature_selection import SelectKBest, f_regression\n",
    "\n",
    "cat_feature_select = SelectKBest(\n",
    "    f_regression,\n",
    "    k=50\n",
    ")\n",
    "\n",
    "select_cat_pipeline = make_pipeline(\n",
    "    cat_pipeline,\n",
    "    cat_feature_select\n",
    ")\n",
    "\n",
    "select_cat_pipeline"
   ]
  },
  {
   "cell_type": "markdown",
   "id": "1facf8ff",
   "metadata": {},
   "source": [
    "## Numerical Pipeline"
   ]
  },
  {
   "cell_type": "markdown",
   "id": "93ec2343",
   "metadata": {},
   "source": [
    "### Impute"
   ]
  },
  {
   "cell_type": "markdown",
   "id": "2610caf7",
   "metadata": {},
   "source": [
    "Note: since there is feature with integer data type, i.e. `Doors`, we will impute it with `strategy='most_frequent'`."
   ]
  },
  {
   "cell_type": "code",
   "execution_count": 46,
   "id": "6f8567e4",
   "metadata": {},
   "outputs": [],
   "source": [
    "from sklearn.impute import SimpleImputer\n",
    "\n",
    "num_impute = ColumnTransformer([\n",
    "    ('impute_num', SimpleImputer(strategy='median'), ['Year', 'Kilometres', 'City', 'Highway']),\n",
    "    ('impute_doors', SimpleImputer(strategy='most_frequent'), ['Doors'])\n",
    "])\n",
    "\n",
    "num_impute"
   ]
  },
  {
   "cell_type": "markdown",
   "id": "921abad2",
   "metadata": {},
   "source": [
    "### Scale"
   ]
  },
  {
   "cell_type": "code",
   "execution_count": 47,
   "id": "2a09e494",
   "metadata": {},
   "outputs": [],
   "source": [
    "num_pipeline = make_pipeline(\n",
    "    num_impute,\n",
    "    StandardScaler()\n",
    ")\n",
    "\n",
    "num_pipeline"
   ]
  },
  {
   "cell_type": "markdown",
   "id": "b949cb99",
   "metadata": {},
   "source": [
    "## Full Pipeline"
   ]
  },
  {
   "cell_type": "code",
   "execution_count": 48,
   "id": "72676e9f",
   "metadata": {},
   "outputs": [],
   "source": [
    "full_pipeline = ColumnTransformer([\n",
    "    ('numerical_pipeline', num_pipeline, X_train_num.columns),\n",
    "    ('cat_pipeline', select_cat_pipeline, X_train_cat.columns)\n",
    "])\n",
    "\n",
    "full_pipeline"
   ]
  },
  {
   "cell_type": "markdown",
   "id": "5d2b4734",
   "metadata": {},
   "source": [
    "## Data Transformation"
   ]
  },
  {
   "cell_type": "code",
   "execution_count": 49,
   "id": "270afab0",
   "metadata": {},
   "outputs": [],
   "source": [
    "full_pipeline.fit(X_train, y_train)"
   ]
  },
  {
   "cell_type": "code",
   "execution_count": 50,
   "id": "a81c00c2",
   "metadata": {},
   "outputs": [],
   "source": [
    "X_train_trans = full_pipeline.transform(X_train).toarray()\n",
    "X_test_trans = full_pipeline.transform(X_test).toarray()\n",
    "\n",
    "y_train_trans = np.array(y_train)\n",
    "y_test_trans = np.array(y_test)"
   ]
  },
  {
   "cell_type": "code",
   "execution_count": 51,
   "id": "af395dd3",
   "metadata": {},
   "outputs": [],
   "source": [
    "full_train = np.concatenate([X_train_trans, y_train_trans], axis=1)"
   ]
  },
  {
   "cell_type": "markdown",
   "id": "3fa52379",
   "metadata": {},
   "source": [
    "# Modeling"
   ]
  },
  {
   "cell_type": "code",
   "execution_count": 57,
   "id": "bab960ac",
   "metadata": {},
   "outputs": [
    {
     "name": "stderr",
     "output_type": "stream",
     "text": [
      "/home/alfian/.local/lib/python3.11/site-packages/sklearn/ensemble/_gb.py:437: DataConversionWarning: A column-vector y was passed when a 1d array was expected. Please change the shape of y to (n_samples, ), for example using ravel().\n",
      "  y = column_or_1d(y, warn=True)\n"
     ]
    },
    {
     "data": {
      "text/html": [
       "<style>#sk-container-id-8 {color: black;background-color: white;}#sk-container-id-8 pre{padding: 0;}#sk-container-id-8 div.sk-toggleable {background-color: white;}#sk-container-id-8 label.sk-toggleable__label {cursor: pointer;display: block;width: 100%;margin-bottom: 0;padding: 0.3em;box-sizing: border-box;text-align: center;}#sk-container-id-8 label.sk-toggleable__label-arrow:before {content: \"▸\";float: left;margin-right: 0.25em;color: #696969;}#sk-container-id-8 label.sk-toggleable__label-arrow:hover:before {color: black;}#sk-container-id-8 div.sk-estimator:hover label.sk-toggleable__label-arrow:before {color: black;}#sk-container-id-8 div.sk-toggleable__content {max-height: 0;max-width: 0;overflow: hidden;text-align: left;background-color: #f0f8ff;}#sk-container-id-8 div.sk-toggleable__content pre {margin: 0.2em;color: black;border-radius: 0.25em;background-color: #f0f8ff;}#sk-container-id-8 input.sk-toggleable__control:checked~div.sk-toggleable__content {max-height: 200px;max-width: 100%;overflow: auto;}#sk-container-id-8 input.sk-toggleable__control:checked~label.sk-toggleable__label-arrow:before {content: \"▾\";}#sk-container-id-8 div.sk-estimator input.sk-toggleable__control:checked~label.sk-toggleable__label {background-color: #d4ebff;}#sk-container-id-8 div.sk-label input.sk-toggleable__control:checked~label.sk-toggleable__label {background-color: #d4ebff;}#sk-container-id-8 input.sk-hidden--visually {border: 0;clip: rect(1px 1px 1px 1px);clip: rect(1px, 1px, 1px, 1px);height: 1px;margin: -1px;overflow: hidden;padding: 0;position: absolute;width: 1px;}#sk-container-id-8 div.sk-estimator {font-family: monospace;background-color: #f0f8ff;border: 1px dotted black;border-radius: 0.25em;box-sizing: border-box;margin-bottom: 0.5em;}#sk-container-id-8 div.sk-estimator:hover {background-color: #d4ebff;}#sk-container-id-8 div.sk-parallel-item::after {content: \"\";width: 100%;border-bottom: 1px solid gray;flex-grow: 1;}#sk-container-id-8 div.sk-label:hover label.sk-toggleable__label {background-color: #d4ebff;}#sk-container-id-8 div.sk-serial::before {content: \"\";position: absolute;border-left: 1px solid gray;box-sizing: border-box;top: 0;bottom: 0;left: 50%;z-index: 0;}#sk-container-id-8 div.sk-serial {display: flex;flex-direction: column;align-items: center;background-color: white;padding-right: 0.2em;padding-left: 0.2em;position: relative;}#sk-container-id-8 div.sk-item {position: relative;z-index: 1;}#sk-container-id-8 div.sk-parallel {display: flex;align-items: stretch;justify-content: center;background-color: white;position: relative;}#sk-container-id-8 div.sk-item::before, #sk-container-id-8 div.sk-parallel-item::before {content: \"\";position: absolute;border-left: 1px solid gray;box-sizing: border-box;top: 0;bottom: 0;left: 50%;z-index: -1;}#sk-container-id-8 div.sk-parallel-item {display: flex;flex-direction: column;z-index: 1;position: relative;background-color: white;}#sk-container-id-8 div.sk-parallel-item:first-child::after {align-self: flex-end;width: 50%;}#sk-container-id-8 div.sk-parallel-item:last-child::after {align-self: flex-start;width: 50%;}#sk-container-id-8 div.sk-parallel-item:only-child::after {width: 0;}#sk-container-id-8 div.sk-dashed-wrapped {border: 1px dashed gray;margin: 0 0.4em 0.5em 0.4em;box-sizing: border-box;padding-bottom: 0.4em;background-color: white;}#sk-container-id-8 div.sk-label label {font-family: monospace;font-weight: bold;display: inline-block;line-height: 1.2em;}#sk-container-id-8 div.sk-label-container {text-align: center;}#sk-container-id-8 div.sk-container {/* jupyter's `normalize.less` sets `[hidden] { display: none; }` but bootstrap.min.css set `[hidden] { display: none !important; }` so we also need the `!important` here to be able to override the default hidden behavior on the sphinx rendered scikit-learn.org. See: https://github.com/scikit-learn/scikit-learn/issues/21755 */display: inline-block !important;position: relative;}#sk-container-id-8 div.sk-text-repr-fallback {display: none;}</style><div id=\"sk-container-id-8\" class=\"sk-top-container\"><div class=\"sk-text-repr-fallback\"><pre>GradientBoostingRegressor()</pre><b>In a Jupyter environment, please rerun this cell to show the HTML representation or trust the notebook. <br />On GitHub, the HTML representation is unable to render, please try loading this page with nbviewer.org.</b></div><div class=\"sk-container\" hidden><div class=\"sk-item\"><div class=\"sk-estimator sk-toggleable\"><input class=\"sk-toggleable__control sk-hidden--visually\" id=\"sk-estimator-id-68\" type=\"checkbox\" checked><label for=\"sk-estimator-id-68\" class=\"sk-toggleable__label sk-toggleable__label-arrow\">GradientBoostingRegressor</label><div class=\"sk-toggleable__content\"><pre>GradientBoostingRegressor()</pre></div></div></div></div></div>"
      ],
      "text/plain": [
       "GradientBoostingRegressor()"
      ]
     },
     "execution_count": 57,
     "metadata": {},
     "output_type": "execute_result"
    }
   ],
   "source": [
    "from sklearn.ensemble import GradientBoostingRegressor\n",
    "\n",
    "gb_model = GradientBoostingRegressor()\n",
    "gb_model.fit(X_train_trans, y_train_trans)"
   ]
  },
  {
   "cell_type": "code",
   "execution_count": 64,
   "id": "c90accf0",
   "metadata": {},
   "outputs": [
    {
     "name": "stdout",
     "output_type": "stream",
     "text": [
      "RMSE: 10673.842465079844\n"
     ]
    },
    {
     "data": {
      "image/png": "[encoded data removed]",
      "text/plain": [
       "<Figure size 640x480 with 1 Axes>"
      ]
     },
     "metadata": {},
     "output_type": "display_data"
    }
   ],
   "source": [
    "from sklearn.metrics import mean_squared_error\n",
    "\n",
    "gb_predict = gb_model.predict(X_test_trans)\n",
    "\n",
    "mse = mean_squared_error(y_test_trans, gb_predict)\n",
    "\n",
    "plt.scatter(y_test_trans, gb_predict, s=3)\n",
    "plt.plot([0, 100000], [0, 100000])\n",
    "\n",
    "print(f'RMSE: {np.sqrt(mse)}')\n",
    "\n",
    "plt.show()"
   ]
  }
 ],
 "metadata": {
  "kernelspec": {
   "display_name": "Python 3 (ipykernel)",
   "language": "python",
   "name": "python3"
  },
  "language_info": {
   "codemirror_mode": {
    "name": "ipython",
    "version": 3
   },
   "file_extension": ".py",
   "mimetype": "text/x-python",
   "name": "python",
   "nbconvert_exporter": "python",
   "pygments_lexer": "ipython3",
   "version": "3.11.0"
  }
 },
 "nbformat": 4,
 "nbformat_minor": 5
}
