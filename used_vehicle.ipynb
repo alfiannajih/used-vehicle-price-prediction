{
 "cells": [
  {
   "cell_type": "markdown",
   "id": "cb4ee424",
   "metadata": {},
   "source": [
    "# Data Preparation"
   ]
  },
  {
   "cell_type": "markdown",
   "id": "a13f0c9a",
   "metadata": {},
   "source": [
    "## Import Library"
   ]
  },
  {
   "cell_type": "code",
   "execution_count": 1,
   "id": "67c8e751",
   "metadata": {},
   "outputs": [],
   "source": [
    "import numpy as np\n",
    "import pandas as pd\n",
    "import seaborn as sns\n",
    "from matplotlib import pyplot as plt\n",
    "from zipfile import ZipFile"
   ]
  },
  {
   "cell_type": "markdown",
   "id": "b3a8b560",
   "metadata": {},
   "source": [
    "## Import Data"
   ]
  },
  {
   "cell_type": "code",
   "execution_count": 2,
   "id": "7f33fb77",
   "metadata": {},
   "outputs": [
    {
     "name": "stdout",
     "output_type": "stream",
     "text": [
      "formattedData.xlsx: Wrong format file\n",
      "['formattedData.xlsx', 'originalData.csv']\n"
     ]
    }
   ],
   "source": [
    "with ZipFile('used-vehicles-for-sale.zip') as raw_zip:\n",
    "    raw_zip.extractall(path='datasets')\n",
    "    \n",
    "    file_name = raw_zip.namelist()\n",
    "    \n",
    "    raw_data = []\n",
    "    \n",
    "    for file in file_name:\n",
    "        try:\n",
    "            raw_data.append(pd.read_csv(f'datasets/{file}'))\n",
    "        except UnicodeDecodeError:\n",
    "            print(f'{file}: Wrong format file')\n",
    "        \n",
    "    print(file_name)"
   ]
  },
  {
   "cell_type": "code",
   "execution_count": 3,
   "id": "53300080",
   "metadata": {},
   "outputs": [
    {
     "data": {
      "text/html": [
       "<div>\n",
       "<style scoped>\n",
       "    .dataframe tbody tr th:only-of-type {\n",
       "        vertical-align: middle;\n",
       "    }\n",
       "\n",
       "    .dataframe tbody tr th {\n",
       "        vertical-align: top;\n",
       "    }\n",
       "\n",
       "    .dataframe thead th {\n",
       "        text-align: right;\n",
       "    }\n",
       "</style>\n",
       "<table border=\"1\" class=\"dataframe\">\n",
       "  <thead>\n",
       "    <tr style=\"text-align: right;\">\n",
       "      <th></th>\n",
       "      <th>Unnamed: 0</th>\n",
       "      <th>Year</th>\n",
       "      <th>Make</th>\n",
       "      <th>Model</th>\n",
       "      <th>Kilometres</th>\n",
       "      <th>Body Type</th>\n",
       "      <th>Engine</th>\n",
       "      <th>Transmission</th>\n",
       "      <th>Drivetrain</th>\n",
       "      <th>Exterior Colour</th>\n",
       "      <th>Interior Colour</th>\n",
       "      <th>Passengers</th>\n",
       "      <th>Doors</th>\n",
       "      <th>Fuel Type</th>\n",
       "      <th>City</th>\n",
       "      <th>Highway</th>\n",
       "      <th>Price</th>\n",
       "    </tr>\n",
       "  </thead>\n",
       "  <tbody>\n",
       "    <tr>\n",
       "      <th>0</th>\n",
       "      <td>0</td>\n",
       "      <td>2019</td>\n",
       "      <td>Acura</td>\n",
       "      <td>MDX</td>\n",
       "      <td>53052 km</td>\n",
       "      <td>SUV</td>\n",
       "      <td>V6 Cylinder Engine</td>\n",
       "      <td>9 Speed Automatic</td>\n",
       "      <td>AWD</td>\n",
       "      <td>Majestic Black Pearl</td>\n",
       "      <td>Red</td>\n",
       "      <td>NaN</td>\n",
       "      <td>NaN</td>\n",
       "      <td>Gas</td>\n",
       "      <td>12.2L/100km</td>\n",
       "      <td>9.0L - 9.5L/100km</td>\n",
       "      <td>43880</td>\n",
       "    </tr>\n",
       "    <tr>\n",
       "      <th>1</th>\n",
       "      <td>1</td>\n",
       "      <td>2018</td>\n",
       "      <td>Acura</td>\n",
       "      <td>MDX</td>\n",
       "      <td>77127 km</td>\n",
       "      <td>SUV</td>\n",
       "      <td>V6 Cylinder Engine</td>\n",
       "      <td>9 Speed Automatic</td>\n",
       "      <td>AWD</td>\n",
       "      <td>Modern Steel Metallic</td>\n",
       "      <td>Black</td>\n",
       "      <td>NaN</td>\n",
       "      <td>NaN</td>\n",
       "      <td>Gas</td>\n",
       "      <td>12.6L/100km</td>\n",
       "      <td>9.0L/100km</td>\n",
       "      <td>36486</td>\n",
       "    </tr>\n",
       "    <tr>\n",
       "      <th>2</th>\n",
       "      <td>2</td>\n",
       "      <td>2019</td>\n",
       "      <td>Acura</td>\n",
       "      <td>RDX</td>\n",
       "      <td>33032 km</td>\n",
       "      <td>SUV</td>\n",
       "      <td>2.0L 4cyl</td>\n",
       "      <td>10 Speed Automatic</td>\n",
       "      <td>AWD</td>\n",
       "      <td>White Diamond Pearl</td>\n",
       "      <td>Black</td>\n",
       "      <td>5.0</td>\n",
       "      <td>4</td>\n",
       "      <td>Premium Unleaded</td>\n",
       "      <td>11.0L/100km</td>\n",
       "      <td>8.6L/100km</td>\n",
       "      <td>40888</td>\n",
       "    </tr>\n",
       "    <tr>\n",
       "      <th>3</th>\n",
       "      <td>3</td>\n",
       "      <td>2020</td>\n",
       "      <td>Acura</td>\n",
       "      <td>RDX</td>\n",
       "      <td>50702 km</td>\n",
       "      <td>SUV</td>\n",
       "      <td>4 Cylinder Engine</td>\n",
       "      <td>NaN</td>\n",
       "      <td>AWD</td>\n",
       "      <td>Platinum White Pearl</td>\n",
       "      <td>Black</td>\n",
       "      <td>NaN</td>\n",
       "      <td>NaN</td>\n",
       "      <td>Gas</td>\n",
       "      <td>11.0L/100km</td>\n",
       "      <td>8.6L/100km</td>\n",
       "      <td>44599</td>\n",
       "    </tr>\n",
       "    <tr>\n",
       "      <th>4</th>\n",
       "      <td>4</td>\n",
       "      <td>2021</td>\n",
       "      <td>Acura</td>\n",
       "      <td>RDX</td>\n",
       "      <td>67950 km</td>\n",
       "      <td>SUV</td>\n",
       "      <td>4 Cylinder Engine</td>\n",
       "      <td>NaN</td>\n",
       "      <td>AWD</td>\n",
       "      <td>Apex Blue Pearl</td>\n",
       "      <td>Red</td>\n",
       "      <td>NaN</td>\n",
       "      <td>NaN</td>\n",
       "      <td>Gas</td>\n",
       "      <td>11.3L/100km</td>\n",
       "      <td>9.1L/100km</td>\n",
       "      <td>46989</td>\n",
       "    </tr>\n",
       "  </tbody>\n",
       "</table>\n",
       "</div>"
      ],
      "text/plain": [
       "   Unnamed: 0  Year   Make Model Kilometres Body Type              Engine  \\\n",
       "0           0  2019  Acura   MDX   53052 km       SUV  V6 Cylinder Engine   \n",
       "1           1  2018  Acura   MDX   77127 km       SUV  V6 Cylinder Engine   \n",
       "2           2  2019  Acura   RDX   33032 km       SUV           2.0L 4cyl   \n",
       "3           3  2020  Acura   RDX   50702 km       SUV   4 Cylinder Engine   \n",
       "4           4  2021  Acura   RDX   67950 km       SUV   4 Cylinder Engine   \n",
       "\n",
       "         Transmission  Drivetrain        Exterior Colour  Interior Colour  \\\n",
       "0   9 Speed Automatic         AWD   Majestic Black Pearl              Red   \n",
       "1   9 Speed Automatic         AWD  Modern Steel Metallic            Black   \n",
       "2  10 Speed Automatic         AWD    White Diamond Pearl            Black   \n",
       "3                 NaN         AWD   Platinum White Pearl            Black   \n",
       "4                 NaN         AWD        Apex Blue Pearl              Red   \n",
       "\n",
       "    Passengers  Doors         Fuel Type         City            Highway  Price  \n",
       "0          NaN    NaN               Gas  12.2L/100km  9.0L - 9.5L/100km  43880  \n",
       "1          NaN    NaN               Gas  12.6L/100km         9.0L/100km  36486  \n",
       "2          5.0      4  Premium Unleaded  11.0L/100km         8.6L/100km  40888  \n",
       "3          NaN    NaN               Gas  11.0L/100km         8.6L/100km  44599  \n",
       "4          NaN    NaN               Gas  11.3L/100km         9.1L/100km  46989  "
      ]
     },
     "execution_count": 3,
     "metadata": {},
     "output_type": "execute_result"
    }
   ],
   "source": [
    "raw_data[0].head()"
   ]
  },
  {
   "cell_type": "code",
   "execution_count": 4,
   "id": "d7f37d28",
   "metadata": {},
   "outputs": [
    {
     "data": {
      "text/html": [
       "<div>\n",
       "<style scoped>\n",
       "    .dataframe tbody tr th:only-of-type {\n",
       "        vertical-align: middle;\n",
       "    }\n",
       "\n",
       "    .dataframe tbody tr th {\n",
       "        vertical-align: top;\n",
       "    }\n",
       "\n",
       "    .dataframe thead th {\n",
       "        text-align: right;\n",
       "    }\n",
       "</style>\n",
       "<table border=\"1\" class=\"dataframe\">\n",
       "  <thead>\n",
       "    <tr style=\"text-align: right;\">\n",
       "      <th></th>\n",
       "      <th>Year</th>\n",
       "      <th>Make</th>\n",
       "      <th>Model</th>\n",
       "      <th>Kilometres</th>\n",
       "      <th>Body Type</th>\n",
       "      <th>Engine</th>\n",
       "      <th>Transmission</th>\n",
       "      <th>Drivetrain</th>\n",
       "      <th>Exterior Colour</th>\n",
       "      <th>Interior Colour</th>\n",
       "      <th>Passengers</th>\n",
       "      <th>Doors</th>\n",
       "      <th>Fuel Type</th>\n",
       "      <th>City</th>\n",
       "      <th>Highway</th>\n",
       "      <th>Price</th>\n",
       "    </tr>\n",
       "  </thead>\n",
       "  <tbody>\n",
       "    <tr>\n",
       "      <th>0</th>\n",
       "      <td>2019</td>\n",
       "      <td>Acura</td>\n",
       "      <td>MDX</td>\n",
       "      <td>53052 km</td>\n",
       "      <td>SUV</td>\n",
       "      <td>V6 Cylinder Engine</td>\n",
       "      <td>9 Speed Automatic</td>\n",
       "      <td>AWD</td>\n",
       "      <td>Majestic Black Pearl</td>\n",
       "      <td>Red</td>\n",
       "      <td>NaN</td>\n",
       "      <td>NaN</td>\n",
       "      <td>Gas</td>\n",
       "      <td>12.2L/100km</td>\n",
       "      <td>9.0L - 9.5L/100km</td>\n",
       "      <td>43880</td>\n",
       "    </tr>\n",
       "    <tr>\n",
       "      <th>1</th>\n",
       "      <td>2018</td>\n",
       "      <td>Acura</td>\n",
       "      <td>MDX</td>\n",
       "      <td>77127 km</td>\n",
       "      <td>SUV</td>\n",
       "      <td>V6 Cylinder Engine</td>\n",
       "      <td>9 Speed Automatic</td>\n",
       "      <td>AWD</td>\n",
       "      <td>Modern Steel Metallic</td>\n",
       "      <td>Black</td>\n",
       "      <td>NaN</td>\n",
       "      <td>NaN</td>\n",
       "      <td>Gas</td>\n",
       "      <td>12.6L/100km</td>\n",
       "      <td>9.0L/100km</td>\n",
       "      <td>36486</td>\n",
       "    </tr>\n",
       "    <tr>\n",
       "      <th>2</th>\n",
       "      <td>2019</td>\n",
       "      <td>Acura</td>\n",
       "      <td>RDX</td>\n",
       "      <td>33032 km</td>\n",
       "      <td>SUV</td>\n",
       "      <td>2.0L 4cyl</td>\n",
       "      <td>10 Speed Automatic</td>\n",
       "      <td>AWD</td>\n",
       "      <td>White Diamond Pearl</td>\n",
       "      <td>Black</td>\n",
       "      <td>5.0</td>\n",
       "      <td>4</td>\n",
       "      <td>Premium Unleaded</td>\n",
       "      <td>11.0L/100km</td>\n",
       "      <td>8.6L/100km</td>\n",
       "      <td>40888</td>\n",
       "    </tr>\n",
       "    <tr>\n",
       "      <th>3</th>\n",
       "      <td>2020</td>\n",
       "      <td>Acura</td>\n",
       "      <td>RDX</td>\n",
       "      <td>50702 km</td>\n",
       "      <td>SUV</td>\n",
       "      <td>4 Cylinder Engine</td>\n",
       "      <td>NaN</td>\n",
       "      <td>AWD</td>\n",
       "      <td>Platinum White Pearl</td>\n",
       "      <td>Black</td>\n",
       "      <td>NaN</td>\n",
       "      <td>NaN</td>\n",
       "      <td>Gas</td>\n",
       "      <td>11.0L/100km</td>\n",
       "      <td>8.6L/100km</td>\n",
       "      <td>44599</td>\n",
       "    </tr>\n",
       "    <tr>\n",
       "      <th>4</th>\n",
       "      <td>2021</td>\n",
       "      <td>Acura</td>\n",
       "      <td>RDX</td>\n",
       "      <td>67950 km</td>\n",
       "      <td>SUV</td>\n",
       "      <td>4 Cylinder Engine</td>\n",
       "      <td>NaN</td>\n",
       "      <td>AWD</td>\n",
       "      <td>Apex Blue Pearl</td>\n",
       "      <td>Red</td>\n",
       "      <td>NaN</td>\n",
       "      <td>NaN</td>\n",
       "      <td>Gas</td>\n",
       "      <td>11.3L/100km</td>\n",
       "      <td>9.1L/100km</td>\n",
       "      <td>46989</td>\n",
       "    </tr>\n",
       "  </tbody>\n",
       "</table>\n",
       "</div>"
      ],
      "text/plain": [
       "   Year   Make Model Kilometres Body Type              Engine  \\\n",
       "0  2019  Acura   MDX   53052 km       SUV  V6 Cylinder Engine   \n",
       "1  2018  Acura   MDX   77127 km       SUV  V6 Cylinder Engine   \n",
       "2  2019  Acura   RDX   33032 km       SUV           2.0L 4cyl   \n",
       "3  2020  Acura   RDX   50702 km       SUV   4 Cylinder Engine   \n",
       "4  2021  Acura   RDX   67950 km       SUV   4 Cylinder Engine   \n",
       "\n",
       "         Transmission  Drivetrain        Exterior Colour  Interior Colour  \\\n",
       "0   9 Speed Automatic         AWD   Majestic Black Pearl              Red   \n",
       "1   9 Speed Automatic         AWD  Modern Steel Metallic            Black   \n",
       "2  10 Speed Automatic         AWD    White Diamond Pearl            Black   \n",
       "3                 NaN         AWD   Platinum White Pearl            Black   \n",
       "4                 NaN         AWD        Apex Blue Pearl              Red   \n",
       "\n",
       "    Passengers  Doors         Fuel Type         City            Highway  Price  \n",
       "0          NaN    NaN               Gas  12.2L/100km  9.0L - 9.5L/100km  43880  \n",
       "1          NaN    NaN               Gas  12.6L/100km         9.0L/100km  36486  \n",
       "2          5.0      4  Premium Unleaded  11.0L/100km         8.6L/100km  40888  \n",
       "3          NaN    NaN               Gas  11.0L/100km         8.6L/100km  44599  \n",
       "4          NaN    NaN               Gas  11.3L/100km         9.1L/100km  46989  "
      ]
     },
     "execution_count": 4,
     "metadata": {},
     "output_type": "execute_result"
    }
   ],
   "source": [
    "full_data = raw_data[0].iloc[:, 1:]\n",
    "\n",
    "full_data.head()"
   ]
  },
  {
   "cell_type": "markdown",
   "id": "50b2093d",
   "metadata": {},
   "source": [
    "# Data Cleaning"
   ]
  },
  {
   "cell_type": "markdown",
   "id": "268106bb",
   "metadata": {},
   "source": [
    "## Columns Information"
   ]
  },
  {
   "cell_type": "code",
   "execution_count": 5,
   "id": "9748cd3d",
   "metadata": {},
   "outputs": [
    {
     "data": {
      "text/plain": [
       "Index(['Year', 'Make', 'Model', 'Kilometres', 'Body Type', ' Engine',\n",
       "       ' Transmission', ' Drivetrain', ' Exterior Colour', ' Interior Colour',\n",
       "       ' Passengers', ' Doors', ' Fuel Type', ' City', ' Highway', 'Price'],\n",
       "      dtype='object')"
      ]
     },
     "execution_count": 5,
     "metadata": {},
     "output_type": "execute_result"
    }
   ],
   "source": [
    "full_data.columns"
   ]
  },
  {
   "cell_type": "markdown",
   "id": "f47c7c70",
   "metadata": {},
   "source": [
    "*Warning: Some of column name contains space in the beginning. Hence we will remove it*"
   ]
  },
  {
   "cell_type": "code",
   "execution_count": 6,
   "id": "bc95f8e8",
   "metadata": {},
   "outputs": [
    {
     "data": {
      "text/plain": [
       "Index(['Year', 'Make', 'Model', 'Kilometres', 'BodyType', 'Engine',\n",
       "       'Transmission', 'Drivetrain', 'ExteriorColour', 'InteriorColour',\n",
       "       'Passengers', 'Doors', 'FuelType', 'City', 'Highway', 'Price'],\n",
       "      dtype='object')"
      ]
     },
     "execution_count": 6,
     "metadata": {},
     "output_type": "execute_result"
    }
   ],
   "source": [
    "full_data.columns = full_data.columns.str.replace(' ', '')\n",
    "\n",
    "full_data.columns"
   ]
  },
  {
   "cell_type": "markdown",
   "id": "e55255d1",
   "metadata": {},
   "source": [
    "Columns Information\n",
    "1. `Year`: The year of the vehicle (year release)\n",
    "2. `Make`: The make of the vehicle (brand)\n",
    "3. `Model`: The model of the vehicle\n",
    "4. `Kilometres`: The distance the vehicle has travelled in Kilometeres\n",
    "5. `BodyType`: The type of Body the vehicle has\n",
    "6. `Engine`: Type of Engine in the vehicle\n",
    "7. `Transmission`: Transmission used in the vehicle\n",
    "8. `Drivertrain`: Drivetrain configuration of the vehicle\n",
    "9. `ExteriorColour`: Exterior Colour of the vehicle\n",
    "10. `InteriorColour`: Interior Colour of the vehicle.\n",
    "11. `Passengers`: Passengers capacity\n",
    "12. `Doors`: The number of doors\n",
    "13. `Fuel Type`: Fuel type of the vehicle\n",
    "14. `City`: Fuel used per 100 km in city\n",
    "15. `Highway`: Fuel used per 100 km in highway\n",
    "16. `Price`: Price of the vehicle in 2023"
   ]
  },
  {
   "cell_type": "markdown",
   "id": "40e037a2",
   "metadata": {},
   "source": [
    "## Column Data Type"
   ]
  },
  {
   "cell_type": "code",
   "execution_count": 7,
   "id": "3a0a4549",
   "metadata": {},
   "outputs": [
    {
     "name": "stdout",
     "output_type": "stream",
     "text": [
      "<class 'pandas.core.frame.DataFrame'>\n",
      "RangeIndex: 24198 entries, 0 to 24197\n",
      "Data columns (total 16 columns):\n",
      " #   Column          Non-Null Count  Dtype  \n",
      "---  ------          --------------  -----  \n",
      " 0   Year            24198 non-null  int64  \n",
      " 1   Make            24198 non-null  object \n",
      " 2   Model           24198 non-null  object \n",
      " 3   Kilometres      23965 non-null  object \n",
      " 4   BodyType        22968 non-null  object \n",
      " 5   Engine          22136 non-null  object \n",
      " 6   Transmission    22854 non-null  object \n",
      " 7   Drivetrain      22967 non-null  object \n",
      " 8   ExteriorColour  23182 non-null  object \n",
      " 9   InteriorColour  16418 non-null  object \n",
      " 10  Passengers      12025 non-null  float64\n",
      " 11  Doors           19611 non-null  object \n",
      " 12  FuelType        23464 non-null  object \n",
      " 13  City            17835 non-null  object \n",
      " 14  Highway         17835 non-null  object \n",
      " 15  Price           24198 non-null  int64  \n",
      "dtypes: float64(1), int64(2), object(13)\n",
      "memory usage: 3.0+ MB\n"
     ]
    }
   ],
   "source": [
    "full_data.info()"
   ]
  },
  {
   "cell_type": "markdown",
   "id": "6d01a948",
   "metadata": {},
   "source": [
    "Based on the columns information, `Kilometres`, `Doors`, `City`, and `Highway` should be a numeric data type. Let's inspect it one by one."
   ]
  },
  {
   "cell_type": "markdown",
   "id": "25d03821",
   "metadata": {},
   "source": [
    "### Kilometres Column"
   ]
  },
  {
   "cell_type": "code",
   "execution_count": 8,
   "id": "9ce48062",
   "metadata": {},
   "outputs": [
    {
     "data": {
      "text/plain": [
       "0        53052 km\n",
       "1        77127 km\n",
       "2        33032 km\n",
       "3        50702 km\n",
       "4        67950 km\n",
       "           ...   \n",
       "24193    81000 km\n",
       "24194    92450 km\n",
       "24195    92000 km\n",
       "24196    67000 km\n",
       "24197    43245 km\n",
       "Name: Kilometres, Length: 24198, dtype: object"
      ]
     },
     "execution_count": 8,
     "metadata": {},
     "output_type": "execute_result"
    }
   ],
   "source": [
    "full_data['Kilometres']"
   ]
  },
  {
   "cell_type": "markdown",
   "id": "ca5aaaa0",
   "metadata": {},
   "source": [
    "The problem is the data contains string 'km', hence pandas treat it as object data type. Let's check if all rows contains 'km'."
   ]
  },
  {
   "cell_type": "code",
   "execution_count": 9,
   "id": "2859436e",
   "metadata": {},
   "outputs": [
    {
     "data": {
      "text/plain": [
       "True    23965\n",
       "Name: Kilometres, dtype: int64"
      ]
     },
     "execution_count": 9,
     "metadata": {},
     "output_type": "execute_result"
    }
   ],
   "source": [
    "full_data['Kilometres'].str.contains('km').value_counts()"
   ]
  },
  {
   "cell_type": "markdown",
   "id": "8afdec57",
   "metadata": {},
   "source": [
    "All rows contains 'km', so we will remove it and then convert the column data type into float."
   ]
  },
  {
   "cell_type": "code",
   "execution_count": 10,
   "id": "5ddd6c5e",
   "metadata": {},
   "outputs": [],
   "source": [
    "full_data['Kilometres'] = full_data['Kilometres'].str.replace(' km', '').astype(float)"
   ]
  },
  {
   "cell_type": "markdown",
   "id": "e657072f",
   "metadata": {},
   "source": [
    "### Doors Column"
   ]
  },
  {
   "cell_type": "code",
   "execution_count": 11,
   "id": "a66a0100",
   "metadata": {},
   "outputs": [
    {
     "data": {
      "text/plain": [
       "0            NaN\n",
       "1            NaN\n",
       "2              4\n",
       "3            NaN\n",
       "4            NaN\n",
       "          ...   \n",
       "24193    5 doors\n",
       "24194          5\n",
       "24195    4 doors\n",
       "24196    4 doors\n",
       "24197    5 doors\n",
       "Name: Doors, Length: 24198, dtype: object"
      ]
     },
     "execution_count": 11,
     "metadata": {},
     "output_type": "execute_result"
    }
   ],
   "source": [
    "full_data['Doors']"
   ]
  },
  {
   "cell_type": "code",
   "execution_count": 12,
   "id": "55658af8",
   "metadata": {},
   "outputs": [
    {
     "data": {
      "text/plain": [
       "4                     14313\n",
       "2                      2907\n",
       "4 doors                1004\n",
       "5                       675\n",
       "5 doors                 361\n",
       "2 doors                 219\n",
       "3                        89\n",
       "3 doors                  39\n",
       "Other/Donât Know        3\n",
       "2.0                       1\n",
       "Name: Doors, dtype: int64"
      ]
     },
     "execution_count": 12,
     "metadata": {},
     "output_type": "execute_result"
    }
   ],
   "source": [
    "full_data['Doors'].value_counts()"
   ]
  },
  {
   "cell_type": "markdown",
   "id": "9300b846",
   "metadata": {},
   "source": [
    "Same as previous column, the problem is there some rows contains string."
   ]
  },
  {
   "cell_type": "code",
   "execution_count": 13,
   "id": "bbc86ebf",
   "metadata": {},
   "outputs": [],
   "source": [
    "full_data['Doors'] = pd.to_numeric(\n",
    "    full_data['Doors'].str.replace(' doors', ''),\n",
    "    errors='coerce'\n",
    ").astype('Int64')"
   ]
  },
  {
   "cell_type": "markdown",
   "id": "f9a2f936",
   "metadata": {},
   "source": [
    "Note: we use `pd.to_numeric` instead of `astype` like the previous one, it's because `pd.to_numeric` can handle invalid input i.e. `Other/Donât Know` and turn them into `NaN` value, after that we use `astype` to convert the data type into `Int64` because it can handle nullable int data."
   ]
  },
  {
   "cell_type": "markdown",
   "id": "c5679dd5",
   "metadata": {},
   "source": [
    "### City Column"
   ]
  },
  {
   "cell_type": "code",
   "execution_count": 24,
   "id": "7d0abb25",
   "metadata": {},
   "outputs": [
    {
     "data": {
      "text/plain": [
       "0        12.2L/100km\n",
       "1        12.6L/100km\n",
       "2        11.0L/100km\n",
       "3        11.0L/100km\n",
       "4        11.3L/100km\n",
       "            ...     \n",
       "24193            NaN\n",
       "24194            NaN\n",
       "24195            NaN\n",
       "24196            NaN\n",
       "24197            NaN\n",
       "Name: City, Length: 24198, dtype: object"
      ]
     },
     "execution_count": 24,
     "metadata": {},
     "output_type": "execute_result"
    }
   ],
   "source": [
    "full_data['City']"
   ]
  },
  {
   "cell_type": "code",
   "execution_count": 20,
   "id": "775857ac",
   "metadata": {},
   "outputs": [
    {
     "data": {
      "text/plain": [
       "True    17835\n",
       "Name: City, dtype: int64"
      ]
     },
     "execution_count": 20,
     "metadata": {},
     "output_type": "execute_result"
    }
   ],
   "source": [
    "full_data['City'].str.contains('100km').value_counts()"
   ]
  },
  {
   "cell_type": "markdown",
   "id": "2dbf2fa4",
   "metadata": {},
   "source": [
    "It all contains '100km', just in case if some rows contains space, let's remove the space to make sure we can remove 'L/100km'."
   ]
  },
  {
   "cell_type": "code",
   "execution_count": 32,
   "id": "c9fabc69",
   "metadata": {},
   "outputs": [
    {
     "data": {
      "text/plain": [
       "0        12.2\n",
       "1        12.6\n",
       "2        11.0\n",
       "3        11.0\n",
       "4        11.3\n",
       "         ... \n",
       "24193     NaN\n",
       "24194     NaN\n",
       "24195     NaN\n",
       "24196     NaN\n",
       "24197     NaN\n",
       "Name: City, Length: 24198, dtype: object"
      ]
     },
     "execution_count": 32,
     "metadata": {},
     "output_type": "execute_result"
    }
   ],
   "source": [
    "city_no_str = full_data['City'].str.replace(' ', '').str.replace('L/100km', '')\n",
    "\n",
    "city_no_str"
   ]
  },
  {
   "cell_type": "code",
   "execution_count": 33,
   "id": "0d640e46",
   "metadata": {},
   "outputs": [
    {
     "data": {
      "text/plain": [
       "10.8          482\n",
       "9.8           478\n",
       "11.5          466\n",
       "7.8           420\n",
       "11.0          374\n",
       "             ... \n",
       "4.8             1\n",
       "6.4L-6.9        1\n",
       "6.6L-7.1        1\n",
       "12.6L-13.1      1\n",
       "8.9L-9.0        1\n",
       "Name: City, Length: 523, dtype: int64"
      ]
     },
     "execution_count": 33,
     "metadata": {},
     "output_type": "execute_result"
    }
   ],
   "source": [
    "city_no_str.value_counts()"
   ]
  },
  {
   "cell_type": "markdown",
   "id": "9249412d",
   "metadata": {},
   "source": [
    "It turns out some rows contains '-', let's take the last number and ditch the first number. Here is the implementation:\n",
    "1. We split the string based on '-' and expand it to dataframe, so there will be 2 columns, we store it in variable called `city_split`\n",
    "2. The rows that doesn't contains '-', their column 1 would be null, hence we use it as `city_mask`\n",
    "3. We filter the splitted data and shift the data in column 0 to column 1\n",
    "4. Finally we only take the column 1 and convert it to float"
   ]
  },
  {
   "cell_type": "code",
   "execution_count": 89,
   "id": "695aeb3d",
   "metadata": {},
   "outputs": [],
   "source": [
    "# step 1\n",
    "city_split = city_no_str.str.split('-', expand=True)\n",
    "\n",
    "# step 2\n",
    "city_mask = city_split[1].isnull()\n",
    "\n",
    "# step 3\n",
    "city_split[city_mask] = city_split[city_mask].shift(axis=1)\n",
    "\n",
    "# step 4\n",
    "full_data['City'] = city_split[1].astype(float)"
   ]
  },
  {
   "cell_type": "markdown",
   "id": "d628784b",
   "metadata": {},
   "source": [
    "### Highway Column"
   ]
  },
  {
   "cell_type": "markdown",
   "id": "e582b0ef",
   "metadata": {},
   "source": [
    "Since this columns similar to `City` column, we will perform the same steps."
   ]
  },
  {
   "cell_type": "code",
   "execution_count": 79,
   "id": "b05f23d8",
   "metadata": {},
   "outputs": [
    {
     "data": {
      "text/plain": [
       "0        9.0L - 9.5L/100km\n",
       "1               9.0L/100km\n",
       "2               8.6L/100km\n",
       "3               8.6L/100km\n",
       "4               9.1L/100km\n",
       "               ...        \n",
       "24193                  NaN\n",
       "24194                  NaN\n",
       "24195                  NaN\n",
       "24196                  NaN\n",
       "24197                  NaN\n",
       "Name: Highway, Length: 24198, dtype: object"
      ]
     },
     "execution_count": 79,
     "metadata": {},
     "output_type": "execute_result"
    }
   ],
   "source": [
    "full_data['Highway']"
   ]
  },
  {
   "cell_type": "code",
   "execution_count": 90,
   "id": "0846bc7d",
   "metadata": {},
   "outputs": [],
   "source": [
    "highway_no_str = full_data['Highway'].str.replace(' ', '').str.replace('L/100km', '')\n",
    "\n",
    "# step 1\n",
    "highway_split = highway_no_str.str.split('-', expand=True)\n",
    "\n",
    "# step 2\n",
    "highway_mask = highway_split[1].isnull()\n",
    "\n",
    "# step 3\n",
    "highway_split[highway_mask] = highway_split[highway_mask].shift(axis=1)\n",
    "\n",
    "# step 4\n",
    "full_data['Highway'] = highway_split[1].astype(float)"
   ]
  },
  {
   "cell_type": "markdown",
   "id": "d624cca8",
   "metadata": {},
   "source": [
    "All done! Let's check the data type again"
   ]
  },
  {
   "cell_type": "code",
   "execution_count": 94,
   "id": "6457b240",
   "metadata": {},
   "outputs": [
    {
     "name": "stdout",
     "output_type": "stream",
     "text": [
      "<class 'pandas.core.frame.DataFrame'>\n",
      "RangeIndex: 24198 entries, 0 to 24197\n",
      "Data columns (total 16 columns):\n",
      " #   Column          Non-Null Count  Dtype  \n",
      "---  ------          --------------  -----  \n",
      " 0   Year            24198 non-null  int64  \n",
      " 1   Make            24198 non-null  object \n",
      " 2   Model           24198 non-null  object \n",
      " 3   Kilometres      23965 non-null  float64\n",
      " 4   BodyType        22968 non-null  object \n",
      " 5   Engine          22136 non-null  object \n",
      " 6   Transmission    22854 non-null  object \n",
      " 7   Drivetrain      22967 non-null  object \n",
      " 8   ExteriorColour  23182 non-null  object \n",
      " 9   InteriorColour  16418 non-null  object \n",
      " 10  Passengers      12025 non-null  float64\n",
      " 11  Doors           19608 non-null  Int64  \n",
      " 12  FuelType        23464 non-null  object \n",
      " 13  City            17835 non-null  float64\n",
      " 14  Highway         17835 non-null  float64\n",
      " 15  Price           24198 non-null  int64  \n",
      "dtypes: Int64(1), float64(4), int64(2), object(9)\n",
      "memory usage: 3.0+ MB\n"
     ]
    }
   ],
   "source": [
    "full_data.info()"
   ]
  }
 ],
 "metadata": {
  "kernelspec": {
   "display_name": "Python 3 (ipykernel)",
   "language": "python",
   "name": "python3"
  },
  "language_info": {
   "codemirror_mode": {
    "name": "ipython",
    "version": 3
   },
   "file_extension": ".py",
   "mimetype": "text/x-python",
   "name": "python",
   "nbconvert_exporter": "python",
   "pygments_lexer": "ipython3",
   "version": "3.11.0"
  }
 },
 "nbformat": 4,
 "nbformat_minor": 5
}
