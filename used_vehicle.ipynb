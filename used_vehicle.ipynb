{
 "cells": [
  {
   "cell_type": "markdown",
   "id": "0c9f55fd",
   "metadata": {},
   "source": [
    "# Data Preparation"
   ]
  },
  {
   "cell_type": "markdown",
   "id": "6ddb35c7",
   "metadata": {},
   "source": [
    "## Import Library"
   ]
  },
  {
   "cell_type": "code",
   "execution_count": 1,
   "id": "26eeec24",
   "metadata": {},
   "outputs": [],
   "source": [
    "import numpy as np\n",
    "import pandas as pd\n",
    "import seaborn as sns\n",
    "from matplotlib import pyplot as plt\n",
    "from zipfile import ZipFile"
   ]
  },
  {
   "cell_type": "markdown",
   "id": "bef7fb2e",
   "metadata": {},
   "source": [
    "## Import Data"
   ]
  },
  {
   "cell_type": "code",
   "execution_count": 4,
   "id": "bc0ca7e0",
   "metadata": {},
   "outputs": [
    {
     "name": "stdout",
     "output_type": "stream",
     "text": [
      "formattedData.xlsx: Wrong format file\n",
      "['formattedData.xlsx', 'originalData.csv']\n"
     ]
    }
   ],
   "source": [
    "with ZipFile('used-vehicles-for-sale.zip') as raw_zip:\n",
    "    raw_zip.extractall(path='datasets')\n",
    "    \n",
    "    file_name = raw_zip.namelist()\n",
    "    \n",
    "    raw_data = []\n",
    "    \n",
    "    for file in file_name:\n",
    "        try:\n",
    "            raw_data.append(pd.read_csv(f'datasets/{file}'))\n",
    "        except UnicodeDecodeError:\n",
    "            print(f'{file}: Wrong format file')\n",
    "        \n",
    "    print(file_name)"
   ]
  },
  {
   "cell_type": "code",
   "execution_count": 7,
   "id": "1c1ab2a7",
   "metadata": {},
   "outputs": [
    {
     "data": {
      "text/html": [
       "<div>\n",
       "<style scoped>\n",
       "    .dataframe tbody tr th:only-of-type {\n",
       "        vertical-align: middle;\n",
       "    }\n",
       "\n",
       "    .dataframe tbody tr th {\n",
       "        vertical-align: top;\n",
       "    }\n",
       "\n",
       "    .dataframe thead th {\n",
       "        text-align: right;\n",
       "    }\n",
       "</style>\n",
       "<table border=\"1\" class=\"dataframe\">\n",
       "  <thead>\n",
       "    <tr style=\"text-align: right;\">\n",
       "      <th></th>\n",
       "      <th>Unnamed: 0</th>\n",
       "      <th>Year</th>\n",
       "      <th>Make</th>\n",
       "      <th>Model</th>\n",
       "      <th>Kilometres</th>\n",
       "      <th>Body Type</th>\n",
       "      <th>Engine</th>\n",
       "      <th>Transmission</th>\n",
       "      <th>Drivetrain</th>\n",
       "      <th>Exterior Colour</th>\n",
       "      <th>Interior Colour</th>\n",
       "      <th>Passengers</th>\n",
       "      <th>Doors</th>\n",
       "      <th>Fuel Type</th>\n",
       "      <th>City</th>\n",
       "      <th>Highway</th>\n",
       "      <th>Price</th>\n",
       "    </tr>\n",
       "  </thead>\n",
       "  <tbody>\n",
       "    <tr>\n",
       "      <th>0</th>\n",
       "      <td>0</td>\n",
       "      <td>2019</td>\n",
       "      <td>Acura</td>\n",
       "      <td>MDX</td>\n",
       "      <td>53052 km</td>\n",
       "      <td>SUV</td>\n",
       "      <td>V6 Cylinder Engine</td>\n",
       "      <td>9 Speed Automatic</td>\n",
       "      <td>AWD</td>\n",
       "      <td>Majestic Black Pearl</td>\n",
       "      <td>Red</td>\n",
       "      <td>NaN</td>\n",
       "      <td>NaN</td>\n",
       "      <td>Gas</td>\n",
       "      <td>12.2L/100km</td>\n",
       "      <td>9.0L - 9.5L/100km</td>\n",
       "      <td>43880</td>\n",
       "    </tr>\n",
       "    <tr>\n",
       "      <th>1</th>\n",
       "      <td>1</td>\n",
       "      <td>2018</td>\n",
       "      <td>Acura</td>\n",
       "      <td>MDX</td>\n",
       "      <td>77127 km</td>\n",
       "      <td>SUV</td>\n",
       "      <td>V6 Cylinder Engine</td>\n",
       "      <td>9 Speed Automatic</td>\n",
       "      <td>AWD</td>\n",
       "      <td>Modern Steel Metallic</td>\n",
       "      <td>Black</td>\n",
       "      <td>NaN</td>\n",
       "      <td>NaN</td>\n",
       "      <td>Gas</td>\n",
       "      <td>12.6L/100km</td>\n",
       "      <td>9.0L/100km</td>\n",
       "      <td>36486</td>\n",
       "    </tr>\n",
       "    <tr>\n",
       "      <th>2</th>\n",
       "      <td>2</td>\n",
       "      <td>2019</td>\n",
       "      <td>Acura</td>\n",
       "      <td>RDX</td>\n",
       "      <td>33032 km</td>\n",
       "      <td>SUV</td>\n",
       "      <td>2.0L 4cyl</td>\n",
       "      <td>10 Speed Automatic</td>\n",
       "      <td>AWD</td>\n",
       "      <td>White Diamond Pearl</td>\n",
       "      <td>Black</td>\n",
       "      <td>5.0</td>\n",
       "      <td>4</td>\n",
       "      <td>Premium Unleaded</td>\n",
       "      <td>11.0L/100km</td>\n",
       "      <td>8.6L/100km</td>\n",
       "      <td>40888</td>\n",
       "    </tr>\n",
       "    <tr>\n",
       "      <th>3</th>\n",
       "      <td>3</td>\n",
       "      <td>2020</td>\n",
       "      <td>Acura</td>\n",
       "      <td>RDX</td>\n",
       "      <td>50702 km</td>\n",
       "      <td>SUV</td>\n",
       "      <td>4 Cylinder Engine</td>\n",
       "      <td>NaN</td>\n",
       "      <td>AWD</td>\n",
       "      <td>Platinum White Pearl</td>\n",
       "      <td>Black</td>\n",
       "      <td>NaN</td>\n",
       "      <td>NaN</td>\n",
       "      <td>Gas</td>\n",
       "      <td>11.0L/100km</td>\n",
       "      <td>8.6L/100km</td>\n",
       "      <td>44599</td>\n",
       "    </tr>\n",
       "    <tr>\n",
       "      <th>4</th>\n",
       "      <td>4</td>\n",
       "      <td>2021</td>\n",
       "      <td>Acura</td>\n",
       "      <td>RDX</td>\n",
       "      <td>67950 km</td>\n",
       "      <td>SUV</td>\n",
       "      <td>4 Cylinder Engine</td>\n",
       "      <td>NaN</td>\n",
       "      <td>AWD</td>\n",
       "      <td>Apex Blue Pearl</td>\n",
       "      <td>Red</td>\n",
       "      <td>NaN</td>\n",
       "      <td>NaN</td>\n",
       "      <td>Gas</td>\n",
       "      <td>11.3L/100km</td>\n",
       "      <td>9.1L/100km</td>\n",
       "      <td>46989</td>\n",
       "    </tr>\n",
       "  </tbody>\n",
       "</table>\n",
       "</div>"
      ],
      "text/plain": [
       "   Unnamed: 0  Year   Make Model Kilometres Body Type              Engine  \\\n",
       "0           0  2019  Acura   MDX   53052 km       SUV  V6 Cylinder Engine   \n",
       "1           1  2018  Acura   MDX   77127 km       SUV  V6 Cylinder Engine   \n",
       "2           2  2019  Acura   RDX   33032 km       SUV           2.0L 4cyl   \n",
       "3           3  2020  Acura   RDX   50702 km       SUV   4 Cylinder Engine   \n",
       "4           4  2021  Acura   RDX   67950 km       SUV   4 Cylinder Engine   \n",
       "\n",
       "         Transmission  Drivetrain        Exterior Colour  Interior Colour  \\\n",
       "0   9 Speed Automatic         AWD   Majestic Black Pearl              Red   \n",
       "1   9 Speed Automatic         AWD  Modern Steel Metallic            Black   \n",
       "2  10 Speed Automatic         AWD    White Diamond Pearl            Black   \n",
       "3                 NaN         AWD   Platinum White Pearl            Black   \n",
       "4                 NaN         AWD        Apex Blue Pearl              Red   \n",
       "\n",
       "    Passengers  Doors         Fuel Type         City            Highway  Price  \n",
       "0          NaN    NaN               Gas  12.2L/100km  9.0L - 9.5L/100km  43880  \n",
       "1          NaN    NaN               Gas  12.6L/100km         9.0L/100km  36486  \n",
       "2          5.0      4  Premium Unleaded  11.0L/100km         8.6L/100km  40888  \n",
       "3          NaN    NaN               Gas  11.0L/100km         8.6L/100km  44599  \n",
       "4          NaN    NaN               Gas  11.3L/100km         9.1L/100km  46989  "
      ]
     },
     "execution_count": 7,
     "metadata": {},
     "output_type": "execute_result"
    }
   ],
   "source": [
    "raw_data[0].head()"
   ]
  },
  {
   "cell_type": "code",
   "execution_count": 10,
   "id": "c3b5245e",
   "metadata": {},
   "outputs": [
    {
     "data": {
      "text/html": [
       "<div>\n",
       "<style scoped>\n",
       "    .dataframe tbody tr th:only-of-type {\n",
       "        vertical-align: middle;\n",
       "    }\n",
       "\n",
       "    .dataframe tbody tr th {\n",
       "        vertical-align: top;\n",
       "    }\n",
       "\n",
       "    .dataframe thead th {\n",
       "        text-align: right;\n",
       "    }\n",
       "</style>\n",
       "<table border=\"1\" class=\"dataframe\">\n",
       "  <thead>\n",
       "    <tr style=\"text-align: right;\">\n",
       "      <th></th>\n",
       "      <th>Year</th>\n",
       "      <th>Make</th>\n",
       "      <th>Model</th>\n",
       "      <th>Kilometres</th>\n",
       "      <th>Body Type</th>\n",
       "      <th>Engine</th>\n",
       "      <th>Transmission</th>\n",
       "      <th>Drivetrain</th>\n",
       "      <th>Exterior Colour</th>\n",
       "      <th>Interior Colour</th>\n",
       "      <th>Passengers</th>\n",
       "      <th>Doors</th>\n",
       "      <th>Fuel Type</th>\n",
       "      <th>City</th>\n",
       "      <th>Highway</th>\n",
       "      <th>Price</th>\n",
       "    </tr>\n",
       "  </thead>\n",
       "  <tbody>\n",
       "    <tr>\n",
       "      <th>0</th>\n",
       "      <td>2019</td>\n",
       "      <td>Acura</td>\n",
       "      <td>MDX</td>\n",
       "      <td>53052 km</td>\n",
       "      <td>SUV</td>\n",
       "      <td>V6 Cylinder Engine</td>\n",
       "      <td>9 Speed Automatic</td>\n",
       "      <td>AWD</td>\n",
       "      <td>Majestic Black Pearl</td>\n",
       "      <td>Red</td>\n",
       "      <td>NaN</td>\n",
       "      <td>NaN</td>\n",
       "      <td>Gas</td>\n",
       "      <td>12.2L/100km</td>\n",
       "      <td>9.0L - 9.5L/100km</td>\n",
       "      <td>43880</td>\n",
       "    </tr>\n",
       "    <tr>\n",
       "      <th>1</th>\n",
       "      <td>2018</td>\n",
       "      <td>Acura</td>\n",
       "      <td>MDX</td>\n",
       "      <td>77127 km</td>\n",
       "      <td>SUV</td>\n",
       "      <td>V6 Cylinder Engine</td>\n",
       "      <td>9 Speed Automatic</td>\n",
       "      <td>AWD</td>\n",
       "      <td>Modern Steel Metallic</td>\n",
       "      <td>Black</td>\n",
       "      <td>NaN</td>\n",
       "      <td>NaN</td>\n",
       "      <td>Gas</td>\n",
       "      <td>12.6L/100km</td>\n",
       "      <td>9.0L/100km</td>\n",
       "      <td>36486</td>\n",
       "    </tr>\n",
       "    <tr>\n",
       "      <th>2</th>\n",
       "      <td>2019</td>\n",
       "      <td>Acura</td>\n",
       "      <td>RDX</td>\n",
       "      <td>33032 km</td>\n",
       "      <td>SUV</td>\n",
       "      <td>2.0L 4cyl</td>\n",
       "      <td>10 Speed Automatic</td>\n",
       "      <td>AWD</td>\n",
       "      <td>White Diamond Pearl</td>\n",
       "      <td>Black</td>\n",
       "      <td>5.0</td>\n",
       "      <td>4</td>\n",
       "      <td>Premium Unleaded</td>\n",
       "      <td>11.0L/100km</td>\n",
       "      <td>8.6L/100km</td>\n",
       "      <td>40888</td>\n",
       "    </tr>\n",
       "    <tr>\n",
       "      <th>3</th>\n",
       "      <td>2020</td>\n",
       "      <td>Acura</td>\n",
       "      <td>RDX</td>\n",
       "      <td>50702 km</td>\n",
       "      <td>SUV</td>\n",
       "      <td>4 Cylinder Engine</td>\n",
       "      <td>NaN</td>\n",
       "      <td>AWD</td>\n",
       "      <td>Platinum White Pearl</td>\n",
       "      <td>Black</td>\n",
       "      <td>NaN</td>\n",
       "      <td>NaN</td>\n",
       "      <td>Gas</td>\n",
       "      <td>11.0L/100km</td>\n",
       "      <td>8.6L/100km</td>\n",
       "      <td>44599</td>\n",
       "    </tr>\n",
       "    <tr>\n",
       "      <th>4</th>\n",
       "      <td>2021</td>\n",
       "      <td>Acura</td>\n",
       "      <td>RDX</td>\n",
       "      <td>67950 km</td>\n",
       "      <td>SUV</td>\n",
       "      <td>4 Cylinder Engine</td>\n",
       "      <td>NaN</td>\n",
       "      <td>AWD</td>\n",
       "      <td>Apex Blue Pearl</td>\n",
       "      <td>Red</td>\n",
       "      <td>NaN</td>\n",
       "      <td>NaN</td>\n",
       "      <td>Gas</td>\n",
       "      <td>11.3L/100km</td>\n",
       "      <td>9.1L/100km</td>\n",
       "      <td>46989</td>\n",
       "    </tr>\n",
       "  </tbody>\n",
       "</table>\n",
       "</div>"
      ],
      "text/plain": [
       "   Year   Make Model Kilometres Body Type              Engine  \\\n",
       "0  2019  Acura   MDX   53052 km       SUV  V6 Cylinder Engine   \n",
       "1  2018  Acura   MDX   77127 km       SUV  V6 Cylinder Engine   \n",
       "2  2019  Acura   RDX   33032 km       SUV           2.0L 4cyl   \n",
       "3  2020  Acura   RDX   50702 km       SUV   4 Cylinder Engine   \n",
       "4  2021  Acura   RDX   67950 km       SUV   4 Cylinder Engine   \n",
       "\n",
       "         Transmission  Drivetrain        Exterior Colour  Interior Colour  \\\n",
       "0   9 Speed Automatic         AWD   Majestic Black Pearl              Red   \n",
       "1   9 Speed Automatic         AWD  Modern Steel Metallic            Black   \n",
       "2  10 Speed Automatic         AWD    White Diamond Pearl            Black   \n",
       "3                 NaN         AWD   Platinum White Pearl            Black   \n",
       "4                 NaN         AWD        Apex Blue Pearl              Red   \n",
       "\n",
       "    Passengers  Doors         Fuel Type         City            Highway  Price  \n",
       "0          NaN    NaN               Gas  12.2L/100km  9.0L - 9.5L/100km  43880  \n",
       "1          NaN    NaN               Gas  12.6L/100km         9.0L/100km  36486  \n",
       "2          5.0      4  Premium Unleaded  11.0L/100km         8.6L/100km  40888  \n",
       "3          NaN    NaN               Gas  11.0L/100km         8.6L/100km  44599  \n",
       "4          NaN    NaN               Gas  11.3L/100km         9.1L/100km  46989  "
      ]
     },
     "execution_count": 10,
     "metadata": {},
     "output_type": "execute_result"
    }
   ],
   "source": [
    "full_data = raw_data[0].iloc[:, 1:]\n",
    "\n",
    "full_data.head()"
   ]
  },
  {
   "cell_type": "markdown",
   "id": "a99d6dbd",
   "metadata": {},
   "source": [
    "# Data Cleaning"
   ]
  },
  {
   "cell_type": "markdown",
   "id": "74ee04da",
   "metadata": {},
   "source": [
    "## Columns Information"
   ]
  },
  {
   "cell_type": "code",
   "execution_count": 13,
   "id": "3b63c82c",
   "metadata": {},
   "outputs": [
    {
     "data": {
      "text/plain": [
       "Index(['Year', 'Make', 'Model', 'Kilometres', 'Body Type', ' Engine',\n",
       "       ' Transmission', ' Drivetrain', ' Exterior Colour', ' Interior Colour',\n",
       "       ' Passengers', ' Doors', ' Fuel Type', ' City', ' Highway', 'Price'],\n",
       "      dtype='object')"
      ]
     },
     "execution_count": 13,
     "metadata": {},
     "output_type": "execute_result"
    }
   ],
   "source": [
    "full_data.columns"
   ]
  },
  {
   "cell_type": "markdown",
   "id": "3bfdb60a",
   "metadata": {},
   "source": [
    "*Warning: Some of column name contains space in the beginning. Hence we will remove it*"
   ]
  },
  {
   "cell_type": "code",
   "execution_count": 21,
   "id": "0e08115f",
   "metadata": {},
   "outputs": [
    {
     "data": {
      "text/plain": [
       "Index(['Year', 'Make', 'Model', 'Kilometres', 'BodyType', 'Engine',\n",
       "       'Transmission', 'Drivetrain', 'ExteriorColour', 'InteriorColour',\n",
       "       'Passengers', 'Doors', 'FuelType', 'City', 'Highway', 'Price'],\n",
       "      dtype='object')"
      ]
     },
     "execution_count": 21,
     "metadata": {},
     "output_type": "execute_result"
    }
   ],
   "source": [
    "full_data.columns = full_data.columns.str.replace(' ', '')\n",
    "\n",
    "full_data.columns"
   ]
  },
  {
   "cell_type": "markdown",
   "id": "8b2f5fcd",
   "metadata": {},
   "source": [
    "Columns Information\n",
    "1. `Year`: The year of the vehicle (year release)\n",
    "2. `Make`: The make of the vehicle (brand)\n",
    "3. `Model`: The model of the vehicle\n",
    "4. `Kilometres`: The distance the vehicle has travelled in Kilometeres\n",
    "5. `BodyType`: The type of Body the vehicle has\n",
    "6. `Engine`: Type of Engine in the vehicle\n",
    "7. `Transmission`: Transmission used in the vehicle\n",
    "8. `Drivertrain`: Drivetrain configuration of the vehicle\n",
    "9. `ExteriorColour`: Exterior Colour of the vehicle\n",
    "10. `InteriorColour`: Interior Colour of the vehicle.\n",
    "11. `Passengers`: Passengers capacity\n",
    "12. `Doors`: The number of doors\n",
    "13. `Fuel Type`: Fuel type of the vehicle\n",
    "14. `City`: Fuel used per 100 km in city\n",
    "15. `Highway`: Fuel used per 100 km in highway\n",
    "16. `Price`: Price of the vehicle in 2023"
   ]
  },
  {
   "cell_type": "markdown",
   "id": "b8507d4d",
   "metadata": {},
   "source": [
    "## Column Data Type"
   ]
  },
  {
   "cell_type": "code",
   "execution_count": 22,
   "id": "ba788cd3",
   "metadata": {},
   "outputs": [
    {
     "name": "stdout",
     "output_type": "stream",
     "text": [
      "<class 'pandas.core.frame.DataFrame'>\n",
      "RangeIndex: 24198 entries, 0 to 24197\n",
      "Data columns (total 16 columns):\n",
      " #   Column          Non-Null Count  Dtype  \n",
      "---  ------          --------------  -----  \n",
      " 0   Year            24198 non-null  int64  \n",
      " 1   Make            24198 non-null  object \n",
      " 2   Model           24198 non-null  object \n",
      " 3   Kilometres      23965 non-null  object \n",
      " 4   BodyType        22968 non-null  object \n",
      " 5   Engine          22136 non-null  object \n",
      " 6   Transmission    22854 non-null  object \n",
      " 7   Drivetrain      22967 non-null  object \n",
      " 8   ExteriorColour  23182 non-null  object \n",
      " 9   InteriorColour  16418 non-null  object \n",
      " 10  Passengers      12025 non-null  float64\n",
      " 11  Doors           19611 non-null  object \n",
      " 12  FuelType        23464 non-null  object \n",
      " 13  City            17835 non-null  object \n",
      " 14  Highway         17835 non-null  object \n",
      " 15  Price           24198 non-null  int64  \n",
      "dtypes: float64(1), int64(2), object(13)\n",
      "memory usage: 3.0+ MB\n"
     ]
    }
   ],
   "source": [
    "full_data.info()"
   ]
  },
  {
   "cell_type": "markdown",
   "id": "1abdc68f",
   "metadata": {},
   "source": [
    "Based on the columns information, `Kilometres`, `Doors`, `City`, and `Highway` should be a numeric data type. Let's inspect it one by one."
   ]
  },
  {
   "cell_type": "markdown",
   "id": "5a1d8e3d",
   "metadata": {},
   "source": [
    "### Kilometres Column"
   ]
  },
  {
   "cell_type": "code",
   "execution_count": 28,
   "id": "ae193cb1",
   "metadata": {},
   "outputs": [
    {
     "data": {
      "text/plain": [
       "0        53052 km\n",
       "1        77127 km\n",
       "2        33032 km\n",
       "3        50702 km\n",
       "4        67950 km\n",
       "           ...   \n",
       "24193    81000 km\n",
       "24194    92450 km\n",
       "24195    92000 km\n",
       "24196    67000 km\n",
       "24197    43245 km\n",
       "Name: Kilometres, Length: 24198, dtype: object"
      ]
     },
     "execution_count": 28,
     "metadata": {},
     "output_type": "execute_result"
    }
   ],
   "source": [
    "full_data['Kilometres']"
   ]
  },
  {
   "cell_type": "markdown",
   "id": "c6d0355c",
   "metadata": {},
   "source": [
    "The problem is the data contains string 'km', hence pandas treat it as object data type. Let's check if all rows contains 'km'."
   ]
  },
  {
   "cell_type": "code",
   "execution_count": 31,
   "id": "f10916e2",
   "metadata": {},
   "outputs": [
    {
     "data": {
      "text/plain": [
       "True    23965\n",
       "Name: Kilometres, dtype: int64"
      ]
     },
     "execution_count": 31,
     "metadata": {},
     "output_type": "execute_result"
    }
   ],
   "source": [
    "full_data['Kilometres'].str.contains('km').value_counts()"
   ]
  },
  {
   "cell_type": "markdown",
   "id": "8a8483ad",
   "metadata": {},
   "source": [
    "All rows contains 'km', so we will remove it and then convert the column data type into float."
   ]
  },
  {
   "cell_type": "code",
   "execution_count": 36,
   "id": "94b83a0d",
   "metadata": {},
   "outputs": [],
   "source": [
    "full_data['Kilometres'] = full_data['Kilometres'].str.replace(' km', '').astype(float)"
   ]
  }
 ],
 "metadata": {
  "kernelspec": {
   "display_name": "Python 3 (ipykernel)",
   "language": "python",
   "name": "python3"
  },
  "language_info": {
   "codemirror_mode": {
    "name": "ipython",
    "version": 3
   },
   "file_extension": ".py",
   "mimetype": "text/x-python",
   "name": "python",
   "nbconvert_exporter": "python",
   "pygments_lexer": "ipython3",
   "version": "3.11.0"
  }
 },
 "nbformat": 4,
 "nbformat_minor": 5
}
