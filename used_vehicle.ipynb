{
 "cells": [
  {
   "cell_type": "markdown",
   "id": "b90fd5e9",
   "metadata": {},
   "source": [
    "# Table of Contents\n",
    "\n",
    "- [Preparation](#preparation)\n",
    "    - [Import Library](#import_library)\n",
    "    - [Import Data](#import_data)\n",
    "- [Exploratory Data Analysis and Data Cleaning](#eda_and_clean)\n",
    "    - [Columns Name](#col_name)\n",
    "    - [Columns Data Type](#col_data_type)\n",
    "        - [Kilometres Column](#kilometres_col_dtype)\n",
    "        - [Doors Column](#doors_col_dtype)\n",
    "        - [City Column](#city_col_dtype)\n",
    "        - [Highway Column](#highway_col_dtype)\n",
    "    - [Turn Other/Donât Know into NaN Values](#other_to_nan)\n",
    "    - [Check Missing Values](#missing_values)\n",
    "    - [Data Distribution](#data_distribution)\n",
    "        - [Categorical Data](#cat_distribution)\n",
    "            - [Correcting Drivetrain](#correcting_drivetrain)\n",
    "            - [Correcting FuelType](#correcting_fuel_type)\n",
    "        - [Numerical Data](#num_distribution)\n",
    "            - [Descriptive Statistics](#desc_stats)\n",
    "                - [Drop Invalid Year](#invalid_year)\n",
    "- [Data Preprocessing](#data_preprocessing)\n",
    "    - [Train Test Split](#train_test_split)\n",
    "    - [Categorical Pipeline](#cat_pipeline)\n",
    "        - [Transmission Transformation](#transmission_trans)\n",
    "        - [Encoding Categorical](#encoding_cat)\n",
    "        - [Categorical Features Selection](#cat_features_selection)\n",
    "    - [Numerical Pipeline](#num_pipeline)\n",
    "        - [New Feature: Mileage (Kilometres/Car's Age)](#new_feature_mileage)\n",
    "        - [Numerical Impute](#num_impute)\n",
    "        - [Numerical Standard Scale](#num_scale)\n",
    "    - [Data Transformation](#data_trans)\n",
    "- [Modeling](#modeling)\n",
    "    - [Automation ML](#auto_ml)"
   ]
  },
  {
   "cell_type": "markdown",
   "id": "cb4ee424",
   "metadata": {},
   "source": [
    "# Preparation <a name='preparation'></a>"
   ]
  },
  {
   "cell_type": "markdown",
   "id": "a13f0c9a",
   "metadata": {},
   "source": [
    "## Import Library <a name='import_library'></a>"
   ]
  },
  {
   "cell_type": "code",
   "execution_count": 1,
   "id": "67c8e751",
   "metadata": {},
   "outputs": [],
   "source": [
    "import numpy as np\n",
    "import pandas as pd\n",
    "import seaborn as sns\n",
    "from matplotlib import pyplot as plt\n",
    "from zipfile import ZipFile"
   ]
  },
  {
   "cell_type": "markdown",
   "id": "b3a8b560",
   "metadata": {},
   "source": [
    "## Import Data <a name='import_data'></a>"
   ]
  },
  {
   "cell_type": "code",
   "execution_count": 2,
   "id": "7f33fb77",
   "metadata": {},
   "outputs": [],
   "source": [
    "with ZipFile('used-vehicles-for-sale.zip') as raw_zip:\n",
    "    raw_zip.extractall(path='datasets')\n",
    "    \n",
    "    file_name = raw_zip.namelist()\n",
    "    \n",
    "    raw_data = []\n",
    "    \n",
    "    for file in file_name:\n",
    "        try:\n",
    "            raw_data.append(pd.read_csv(f'datasets/{file}'))\n",
    "        except UnicodeDecodeError:\n",
    "            print(f'{file}: Wrong format file')\n",
    "        \n",
    "    print(file_name)"
   ]
  },
  {
   "cell_type": "code",
   "execution_count": 3,
   "id": "53300080",
   "metadata": {},
   "outputs": [],
   "source": [
    "raw_data[0].head()"
   ]
  },
  {
   "cell_type": "code",
   "execution_count": 4,
   "id": "d7f37d28",
   "metadata": {},
   "outputs": [],
   "source": [
    "full_data = raw_data[0].iloc[:, 1:]\n",
    "\n",
    "full_data.head()"
   ]
  },
  {
   "cell_type": "markdown",
   "id": "18e9605f",
   "metadata": {},
   "source": [
    "# Exploratory Data Analysis and Data Cleaning <a name='eda_and_clean'></a>"
   ]
  },
  {
   "cell_type": "markdown",
   "id": "268106bb",
   "metadata": {},
   "source": [
    "## Columns Name <a name='col_name'></a>"
   ]
  },
  {
   "cell_type": "code",
   "execution_count": 5,
   "id": "9748cd3d",
   "metadata": {},
   "outputs": [],
   "source": [
    "full_data.columns"
   ]
  },
  {
   "cell_type": "markdown",
   "id": "f47c7c70",
   "metadata": {},
   "source": [
    "*Warning: Some of column name contains space in the beginning. Hence we will remove it*"
   ]
  },
  {
   "cell_type": "code",
   "execution_count": 6,
   "id": "bc95f8e8",
   "metadata": {},
   "outputs": [],
   "source": [
    "full_data.columns = full_data.columns.str.replace(' ', '')\n",
    "\n",
    "full_data.columns"
   ]
  },
  {
   "cell_type": "markdown",
   "id": "e55255d1",
   "metadata": {},
   "source": [
    "Columns Information\n",
    "1. `Year`: The year of the vehicle (year release)\n",
    "2. `Make`: The make of the vehicle (brand)\n",
    "3. `Model`: The model of the vehicle\n",
    "4. `Kilometres`: The distance the vehicle has travelled in Kilometeres\n",
    "5. `BodyType`: The type of Body the vehicle has\n",
    "6. `Engine`: Type of Engine in the vehicle\n",
    "7. `Transmission`: Transmission used in the vehicle\n",
    "8. `Drivertrain`: Drivetrain configuration of the vehicle\n",
    "9. `ExteriorColour`: Exterior Colour of the vehicle\n",
    "10. `InteriorColour`: Interior Colour of the vehicle.\n",
    "11. `Passengers`: Passengers capacity\n",
    "12. `Doors`: The number of doors\n",
    "13. `Fuel Type`: Fuel type of the vehicle\n",
    "14. `City`: Fuel used per 100 km in city\n",
    "15. `Highway`: Fuel used per 100 km in highway\n",
    "16. `Price`: Price of the vehicle in 2023"
   ]
  },
  {
   "cell_type": "markdown",
   "id": "40e037a2",
   "metadata": {},
   "source": [
    "## Columns Data Type <a name='col_data_type'></a>"
   ]
  },
  {
   "cell_type": "code",
   "execution_count": 7,
   "id": "3a0a4549",
   "metadata": {},
   "outputs": [],
   "source": [
    "full_data.info()"
   ]
  },
  {
   "cell_type": "markdown",
   "id": "6d01a948",
   "metadata": {},
   "source": [
    "Based on the columns information, `Kilometres`, `Doors`, `City`, and `Highway` should be a numeric data type. Let's inspect it one by one."
   ]
  },
  {
   "cell_type": "markdown",
   "id": "25d03821",
   "metadata": {},
   "source": [
    "### Kilometres Column <a name='kilometres_column_dtype'></a>"
   ]
  },
  {
   "cell_type": "code",
   "execution_count": 8,
   "id": "9ce48062",
   "metadata": {},
   "outputs": [],
   "source": [
    "full_data['Kilometres']"
   ]
  },
  {
   "cell_type": "markdown",
   "id": "ca5aaaa0",
   "metadata": {},
   "source": [
    "The problem is the data contains string 'km', hence pandas treat it as object data type. Let's check if all rows contains 'km'."
   ]
  },
  {
   "cell_type": "code",
   "execution_count": 9,
   "id": "2859436e",
   "metadata": {},
   "outputs": [],
   "source": [
    "full_data['Kilometres'].str.contains('km').value_counts()"
   ]
  },
  {
   "cell_type": "markdown",
   "id": "8afdec57",
   "metadata": {},
   "source": [
    "All rows contains 'km', so we will remove it and then convert the column data type into float."
   ]
  },
  {
   "cell_type": "code",
   "execution_count": 10,
   "id": "5ddd6c5e",
   "metadata": {},
   "outputs": [],
   "source": [
    "full_data['Kilometres'] = full_data['Kilometres'].str.replace(' km', '').astype(float)"
   ]
  },
  {
   "cell_type": "markdown",
   "id": "e657072f",
   "metadata": {},
   "source": [
    "### Doors Column <a name='doors_column_dtype'></a>"
   ]
  },
  {
   "cell_type": "code",
   "execution_count": 11,
   "id": "a66a0100",
   "metadata": {},
   "outputs": [],
   "source": [
    "full_data['Doors']"
   ]
  },
  {
   "cell_type": "code",
   "execution_count": 12,
   "id": "55658af8",
   "metadata": {},
   "outputs": [],
   "source": [
    "full_data['Doors'].value_counts()"
   ]
  },
  {
   "cell_type": "markdown",
   "id": "9300b846",
   "metadata": {},
   "source": [
    "Same as previous column, the problem is there some rows contains string."
   ]
  },
  {
   "cell_type": "code",
   "execution_count": 13,
   "id": "bbc86ebf",
   "metadata": {},
   "outputs": [],
   "source": [
    "full_data['Doors'] = pd.to_numeric(\n",
    "    full_data['Doors'].str.replace(' doors', ''),\n",
    "    errors='coerce'\n",
    ").astype('Int64')"
   ]
  },
  {
   "cell_type": "markdown",
   "id": "f9a2f936",
   "metadata": {},
   "source": [
    "We use `pd.to_numeric` instead of `astype` like the previous one, it's because `pd.to_numeric` can handle invalid input i.e. `Other/Donât Know` and turn them into `NaN` value, after that we use `astype` to convert the data type into `Int64` because it can handle nullable int data.\n",
    "\n",
    "**Note: Since there are some rows that contains `Other/Donât Know`, we should check other columns, if they contains it or not, and then turn them into `NaN` values.**"
   ]
  },
  {
   "cell_type": "markdown",
   "id": "c5679dd5",
   "metadata": {},
   "source": [
    "### City Column <a name='city_column_dtype'></a>"
   ]
  },
  {
   "cell_type": "code",
   "execution_count": 14,
   "id": "7d0abb25",
   "metadata": {},
   "outputs": [],
   "source": [
    "full_data['City']"
   ]
  },
  {
   "cell_type": "code",
   "execution_count": 15,
   "id": "775857ac",
   "metadata": {},
   "outputs": [],
   "source": [
    "full_data['City'].str.contains('100km').value_counts()"
   ]
  },
  {
   "cell_type": "markdown",
   "id": "2dbf2fa4",
   "metadata": {},
   "source": [
    "It all contains '100km', just in case if some rows contains space, let's remove the space to make sure we can remove 'L/100km'."
   ]
  },
  {
   "cell_type": "code",
   "execution_count": 16,
   "id": "c9fabc69",
   "metadata": {},
   "outputs": [],
   "source": [
    "city_no_str = full_data['City'].str.replace(' ', '').str.replace('L/100km', '')\n",
    "\n",
    "city_no_str"
   ]
  },
  {
   "cell_type": "code",
   "execution_count": 17,
   "id": "0d640e46",
   "metadata": {},
   "outputs": [],
   "source": [
    "city_no_str.value_counts()"
   ]
  },
  {
   "cell_type": "markdown",
   "id": "9249412d",
   "metadata": {},
   "source": [
    "It turns out some rows contains '-', let's take the last number and ditch the first number. Here are the steps:\n",
    "1. We split the string based on '-' and expand it to dataframe, so there will be 2 columns, we store it in variable called `city_split`\n",
    "2. The rows that doesn't contains '-', their column 1 would be null, hence we use it as `city_mask`\n",
    "3. We filter the splitted data by `city_mask` and shift the data in column 0 to column 1\n",
    "4. Finally we only take the column 1 and convert it to float"
   ]
  },
  {
   "cell_type": "code",
   "execution_count": 18,
   "id": "695aeb3d",
   "metadata": {},
   "outputs": [],
   "source": [
    "# step 1\n",
    "city_split = city_no_str.str.split('-', expand=True)\n",
    "\n",
    "# step 2\n",
    "city_mask = city_split[1].isnull()\n",
    "\n",
    "# step 3\n",
    "city_split[city_mask] = city_split[city_mask].shift(axis=1)\n",
    "\n",
    "# step 4\n",
    "full_data['City'] = city_split[1].astype(float)"
   ]
  },
  {
   "cell_type": "markdown",
   "id": "d628784b",
   "metadata": {},
   "source": [
    "### Highway Column <a name='highway_column_dtype'></a>"
   ]
  },
  {
   "cell_type": "markdown",
   "id": "e582b0ef",
   "metadata": {},
   "source": [
    "Since this columns similar to `City` column, we will perform the same steps."
   ]
  },
  {
   "cell_type": "code",
   "execution_count": 19,
   "id": "b05f23d8",
   "metadata": {},
   "outputs": [],
   "source": [
    "full_data['Highway']"
   ]
  },
  {
   "cell_type": "code",
   "execution_count": 20,
   "id": "0846bc7d",
   "metadata": {},
   "outputs": [],
   "source": [
    "highway_no_str = full_data['Highway'].str.replace(' ', '').str.replace('L/100km', '')\n",
    "\n",
    "# step 1\n",
    "highway_split = highway_no_str.str.split('-', expand=True)\n",
    "\n",
    "# step 2\n",
    "highway_mask = highway_split[1].isnull()\n",
    "\n",
    "# step 3\n",
    "highway_split[highway_mask] = highway_split[highway_mask].shift(axis=1)\n",
    "\n",
    "# step 4\n",
    "full_data['Highway'] = highway_split[1].astype(float)"
   ]
  },
  {
   "cell_type": "markdown",
   "id": "d624cca8",
   "metadata": {},
   "source": [
    "All done! Let's check the data type again"
   ]
  },
  {
   "cell_type": "code",
   "execution_count": 21,
   "id": "6457b240",
   "metadata": {
    "scrolled": false
   },
   "outputs": [],
   "source": [
    "full_data.info()"
   ]
  },
  {
   "cell_type": "markdown",
   "id": "7d08097b",
   "metadata": {},
   "source": [
    "## Turn `Other/Donât Know` into `NaN` Values <a name='other_to_nan'></a>"
   ]
  },
  {
   "cell_type": "markdown",
   "id": "ed5a7ab5",
   "metadata": {},
   "source": [
    "We will inspect the columns with the type of `object`."
   ]
  },
  {
   "cell_type": "code",
   "execution_count": 22,
   "id": "e75efd01",
   "metadata": {},
   "outputs": [],
   "source": [
    "for column in full_data.select_dtypes(include='object').columns:\n",
    "    temp_other_sum = full_data.select_dtypes(include='object')[column].str.contains('other', case=False).sum()\n",
    "    \n",
    "    print(f'{column} contains {temp_other_sum} \"other\" values')"
   ]
  },
  {
   "cell_type": "markdown",
   "id": "e634f3bc",
   "metadata": {},
   "source": [
    "Let's turn rows from `FuelType` that contains `Other/Donât Know` into `NaN` values."
   ]
  },
  {
   "cell_type": "code",
   "execution_count": 23,
   "id": "aef836e1",
   "metadata": {},
   "outputs": [],
   "source": [
    "mask_fuel_type = full_data['FuelType'].str.contains('other', case=False, na=False)\n",
    "\n",
    "full_data['FuelType'][mask_fuel_type] = None"
   ]
  },
  {
   "cell_type": "markdown",
   "id": "c740b024",
   "metadata": {},
   "source": [
    "## Check Missing Values <a name='missing_values'></a>"
   ]
  },
  {
   "cell_type": "code",
   "execution_count": 24,
   "id": "c6efcdab",
   "metadata": {
    "scrolled": false
   },
   "outputs": [],
   "source": [
    "print(f'''\n",
    "Missing values ratio for each columns:\n",
    "\n",
    "{(full_data.isnull().sum()/len(full_data)).sort_values(ascending=False) }''')"
   ]
  },
  {
   "cell_type": "markdown",
   "id": "1cc1865d",
   "metadata": {},
   "source": [
    "About half rows in `Passengers` column is missing."
   ]
  },
  {
   "cell_type": "code",
   "execution_count": 25,
   "id": "4153bebe",
   "metadata": {},
   "outputs": [],
   "source": [
    "full_data = full_data.drop('Passengers', axis=1)"
   ]
  },
  {
   "cell_type": "markdown",
   "id": "f7c06946",
   "metadata": {},
   "source": [
    "## Data Distribution <a name='data_distribution'></a>"
   ]
  },
  {
   "cell_type": "markdown",
   "id": "08fcd8c9",
   "metadata": {},
   "source": [
    "### Categorical Data <a name='cat_distribution'></a>"
   ]
  },
  {
   "cell_type": "code",
   "execution_count": 26,
   "id": "0a9cc543",
   "metadata": {},
   "outputs": [],
   "source": [
    "full_cat_data = full_data.select_dtypes(include='object')\n",
    "\n",
    "full_cat_data.head()"
   ]
  },
  {
   "cell_type": "markdown",
   "id": "08e9b523",
   "metadata": {},
   "source": [
    "Before we visualize the data distribution, let's check the unique values for each columns and we only visualize the columns with certain number of unique values."
   ]
  },
  {
   "cell_type": "code",
   "execution_count": 27,
   "id": "d94bca19",
   "metadata": {},
   "outputs": [],
   "source": [
    "full_cat_data.nunique()"
   ]
  },
  {
   "cell_type": "markdown",
   "id": "d819dfbf",
   "metadata": {},
   "source": [
    "Let's visualize these columns: `Make`, `BodyType`, `Transmission`, `Drivetrain`, `InteriorColour`, and `FuelType`"
   ]
  },
  {
   "cell_type": "code",
   "execution_count": 28,
   "id": "afa58301",
   "metadata": {
    "scrolled": false
   },
   "outputs": [],
   "source": [
    "for column in ['Make', 'BodyType', 'Transmission', 'Drivetrain', 'InteriorColour', 'FuelType']:\n",
    "    full_cat_data[column].value_counts().plot(\n",
    "        kind='bar',\n",
    "        title=f'{column} Distribution',\n",
    "        rot=75,\n",
    "        figsize=(10, 4)\n",
    "    )\n",
    "    plt.show()"
   ]
  },
  {
   "cell_type": "markdown",
   "id": "6aed9cc0",
   "metadata": {},
   "source": [
    "Some of values from `Drivetrain` and `FuelType` column have same term but different name e.g. in column `FuelType` the value 'Gas', 'Gasoline', 'Gasoline Fuel', and 'Gaseous Fuel Compatible' have same term, which is 'Gasoline'."
   ]
  },
  {
   "cell_type": "markdown",
   "id": "64c195ab",
   "metadata": {},
   "source": [
    "In `Transmission` column, we will do some transformation in [Data Preprocessing](#data_preprocessing) section."
   ]
  },
  {
   "cell_type": "markdown",
   "id": "9ec0e9a4",
   "metadata": {},
   "source": [
    "#### Correcting Engine"
   ]
  },
  {
   "cell_type": "markdown",
   "id": "2ed5d93f",
   "metadata": {},
   "source": [
    "##### Engine Size"
   ]
  },
  {
   "cell_type": "code",
   "execution_count": 29,
   "id": "5079cd64",
   "metadata": {},
   "outputs": [],
   "source": [
    "engine_col_split = full_cat_data['Engine'].str.split(\n",
    "    pat='[Ll].*',\n",
    "    regex=True,\n",
    "    expand=True\n",
    ")\n",
    "\n",
    "engine_size = pd.to_numeric(engine_col_split[0], errors='coerce')\n",
    "\n",
    "engine_size.describe()"
   ]
  },
  {
   "cell_type": "markdown",
   "id": "d291b0f6",
   "metadata": {},
   "source": [
    "##### Engine Cylinder"
   ]
  },
  {
   "cell_type": "code",
   "execution_count": 30,
   "id": "61108c4b",
   "metadata": {},
   "outputs": [],
   "source": [
    "mask_cyl = full_cat_data['Engine'].str.contains('cyl', case=False, na=False)\n",
    "\n",
    "number_cyl = full_cat_data['Engine'][mask_cyl].str.split(\n",
    "    pat='[Cc]yl.*',\n",
    "    regex=True,\n",
    "    expand=True\n",
    ")[0]\n",
    "\n",
    "engine_cyl = number_cyl.str.extract('(\\d+)(?!.*\\d)').astype('Int8')\n",
    "\n",
    "engine_cyl.describe()"
   ]
  },
  {
   "cell_type": "markdown",
   "id": "a6eef2b9",
   "metadata": {},
   "source": [
    "Next, we will input these new data into our `full_data`, but we need some domain knowledge in order to validate our new data.\n",
    "1. Engine Size\n",
    "    <br>\n",
    "    Based on\n",
    "    \n",
    "    [this article](https://www.carkeys.co.uk/news/what-s-the-biggest-engine-in-the-world)\n",
    "\n",
    "> Currently, the **largest car engine available on a production car is an 8.4-litre** Viper V10 engine produced by Chrysler, which has been responsible for some of the most insane performance engines of all time, including the Chrysler Hemi.\n",
    "\n",
    "    Hence, we will set upper limit for the engine size from our data into 8.4 litre.\n",
    "\n",
    "2. Engine Cylinder\n",
    "    <br>\n",
    "    Based on\n",
    "    \n",
    "    [this article](https://krcgtv.com/features/beyond-the-trivia/beyond-the-trivia-engine-cylinders)\n",
    "    \n",
    "> **The most cylinders in a production automobile are 16.** If you eliminate race cars and concept cars, you're left with the Cadillac V-16, the only production 16-cylinder car.\n",
    "\n",
    "    As we can see, the upper limit for the engine cylinder is already 16, so there is no need to manipulate it again."
   ]
  },
  {
   "cell_type": "code",
   "execution_count": 31,
   "id": "86f6acaf",
   "metadata": {},
   "outputs": [],
   "source": [
    "full_cat_data['EngineSize'] = engine_size\n",
    "full_cat_data['EngineCylinder'] = engine_cyl"
   ]
  },
  {
   "cell_type": "markdown",
   "id": "29077fbf",
   "metadata": {},
   "source": [
    "#### Correcting Drivetrain <a name='correcting_drivetrain'></a>"
   ]
  },
  {
   "cell_type": "code",
   "execution_count": 32,
   "id": "f989fbfe",
   "metadata": {},
   "outputs": [],
   "source": [
    "full_cat_data['Drivetrain'].unique()"
   ]
  },
  {
   "cell_type": "markdown",
   "id": "3de98a87",
   "metadata": {},
   "source": [
    "The values '4X4', '4x4', and '4WD' have a same term, which is '4WD'. While '2WD' can be either 'FWD' or 'RWD', so we can't decide it what is the true for it, hence we will convert it to null values. We will map those invalid values to valid values."
   ]
  },
  {
   "cell_type": "code",
   "execution_count": 33,
   "id": "0af649a7",
   "metadata": {},
   "outputs": [],
   "source": [
    "drivetrain_map = {\n",
    "    'AWD': 'AWD',\n",
    "    'FWD': 'FWD',\n",
    "    'RWD': 'RWD',\n",
    "    '4WD': '4WD',\n",
    "    '4X4': '4WD',\n",
    "    '4x4': '4WD',\n",
    "    '2WD': None\n",
    "}\n",
    "\n",
    "full_cat_data['Drivetrain'] = full_cat_data['Drivetrain'].map(drivetrain_map)"
   ]
  },
  {
   "cell_type": "markdown",
   "id": "7f779f61",
   "metadata": {},
   "source": [
    "#### Correcting FuelType <a name='correcting_fuel_type'></a>"
   ]
  },
  {
   "cell_type": "code",
   "execution_count": 34,
   "id": "77717548",
   "metadata": {},
   "outputs": [],
   "source": [
    "full_cat_data['FuelType'].value_counts()"
   ]
  },
  {
   "cell_type": "markdown",
   "id": "3a728530",
   "metadata": {},
   "source": [
    "For `FuelType` column let's we rewrite it in mathematical terms, we write a function that mapping those input into valid input:\n",
    "\n",
    "$ f(x):raw\\_input \\rightarrow valid\\_input $\n",
    "\n",
    "Where $raw\\_input$ is the unique values from `FuelType` column, while $valid\\_input = \\{'Gasoline',\\;'Hybrid',\\;'Flexible',\\;'Diesel',\\;'Electric',\\;'Regular\\;Unleaded',\\;'Premium\\;Unleaded'\\}$\n",
    "\n",
    "$ f(x)=   \\left\\{\n",
    "\\begin{array}{ll}\n",
    "      'Gasoline' & x \\in \\{'Gas',\\;'Gasoline',\\;'Gasoline\\;Fuel',\\;'Gaseous\\;Fuel\\;Compatible'\\} \\\\\n",
    "      'Hybrid' & x \\in \\{'Gasoline\\;Hybrid',\\;'Gas/Electric\\;Hybrid'\\} \\\\\n",
    "      'Flexible' & x \\in \\{'Flexible',\\;'E85-\\;Gasoline(Flex\\;Fuel)'\\} \\\\\n",
    "      'Diesel' & x \\in \\{'Diesel'\\} \\\\\n",
    "      'Electric' & x \\in \\{'Electric'\\} \\\\\n",
    "      'Regular\\;Unleaded' & x \\in \\{'Regular\\;Unleaded'\\} \\\\\n",
    "      'Premium\\;Unleaded' & x \\in \\{'Premium\\;Unleaded'\\} \\\\\n",
    "      None & Otherwise\n",
    "\\end{array} \n",
    "\\right.  $\n",
    "\n",
    "Let's implement it in the code."
   ]
  },
  {
   "cell_type": "code",
   "execution_count": 35,
   "id": "e2c149ad",
   "metadata": {},
   "outputs": [],
   "source": [
    "domain_gas = ['Gas', 'Gasoline', 'Gasoline Fuel', 'Gaseous Fuel Compatible']\n",
    "domain_hybrid = ['Gasoline Hybrid', 'Gas/Electric Hybrid']\n",
    "domain_flexible = ['Flexible', 'E85- Gasoline(Flex Fuel)']\n",
    "\n",
    "gas_map = dict.fromkeys(domain_gas, 'Gasoline')\n",
    "hybrid_map = dict.fromkeys(domain_hybrid, 'Hybrid')\n",
    "flexible_map = dict.fromkeys(domain_flexible, 'Flexible')\n",
    "\n",
    "fuel_type_map = {\n",
    "    **gas_map,\n",
    "    **hybrid_map,\n",
    "    **flexible_map,\n",
    "    'Diesel': 'Diesel',\n",
    "    'Electric': 'Electric',\n",
    "    'Regular Unleaded': 'Regular Unleaded',\n",
    "    'Premium Unleaded': 'Premium Unleaded'\n",
    "}\n",
    "\n",
    "full_cat_data['FuelType'] = full_cat_data['FuelType'].map(fuel_type_map)"
   ]
  },
  {
   "cell_type": "markdown",
   "id": "1912a4b4",
   "metadata": {},
   "source": [
    "### Numerical Data <a name='num_distribution'></a>"
   ]
  },
  {
   "cell_type": "code",
   "execution_count": 36,
   "id": "d012c703",
   "metadata": {},
   "outputs": [],
   "source": [
    "full_num_data = full_data.select_dtypes(exclude='object')\n",
    "\n",
    "full_num_data.head()"
   ]
  },
  {
   "cell_type": "code",
   "execution_count": 37,
   "id": "38e8c2e9",
   "metadata": {},
   "outputs": [],
   "source": [
    "full_num_data.hist(\n",
    "    bins=50,\n",
    "    figsize=(18, 12)\n",
    ")\n",
    "\n",
    "plt.show()"
   ]
  },
  {
   "cell_type": "markdown",
   "id": "b00d7ab0",
   "metadata": {},
   "source": [
    "There is some outliers in `Kilometres`, `City`, `Highway`, and `Price`, let's remove them"
   ]
  },
  {
   "cell_type": "markdown",
   "id": "b478b978",
   "metadata": {},
   "source": [
    "#### Remove Outliers"
   ]
  },
  {
   "cell_type": "code",
   "execution_count": 38,
   "id": "8eefd889",
   "metadata": {},
   "outputs": [],
   "source": [
    "def detect_outliers(data):\n",
    "    q_3 = np.nanquantile(data, 0.75)\n",
    "    q_1 = np.nanquantile(data, 0.25)\n",
    "        \n",
    "    inter_q = q_3 - q_1\n",
    "\n",
    "    upper_bound = q_3 + (1.5*inter_q)\n",
    "    lower_bound = q_1 - (1.5*inter_q)\n",
    "    \n",
    "    return np.logical_or(data < lower_bound, data > upper_bound)\n",
    "\n",
    "for column in ['Kilometres', 'City', 'Highway', 'Price']:\n",
    "    full_num_data = full_num_data.drop(\n",
    "        full_num_data[column][detect_outliers(full_num_data[column])].index,\n",
    "        errors='ignore'\n",
    "    )"
   ]
  },
  {
   "cell_type": "markdown",
   "id": "415aa594",
   "metadata": {},
   "source": [
    "#### Descriptive Statistics <a name='desc_stats'></a>"
   ]
  },
  {
   "cell_type": "code",
   "execution_count": 39,
   "id": "227041b9",
   "metadata": {},
   "outputs": [],
   "source": [
    "full_num_data.describe()"
   ]
  },
  {
   "cell_type": "markdown",
   "id": "e8ba1619",
   "metadata": {},
   "source": [
    "Hold on, the maximum value of `Year` column is 2024, which is exceed current year (2023), we will drop those rows."
   ]
  },
  {
   "cell_type": "markdown",
   "id": "c6ecf441",
   "metadata": {},
   "source": [
    "##### Drop Invalid `Year` <a name='invalid_year'></a>"
   ]
  },
  {
   "cell_type": "code",
   "execution_count": 40,
   "id": "8b6e585a",
   "metadata": {},
   "outputs": [],
   "source": [
    "mask_year = full_num_data['Year'] > 2023\n",
    "\n",
    "full_num_data = full_num_data.drop(full_num_data['Year'][mask_year].index).reset_index(drop=True)"
   ]
  },
  {
   "cell_type": "markdown",
   "id": "c3aac551",
   "metadata": {},
   "source": [
    "#### Correlation"
   ]
  },
  {
   "cell_type": "code",
   "execution_count": 41,
   "id": "6bb60d32",
   "metadata": {},
   "outputs": [],
   "source": [
    "sns.heatmap(\n",
    "    full_num_data.corr(),\n",
    "    annot=True,\n",
    "    vmin=-1,\n",
    "    vmax=1\n",
    ")"
   ]
  },
  {
   "cell_type": "markdown",
   "id": "8924aaa3",
   "metadata": {},
   "source": [
    "Before go to the Data Preprocessing section, let's combine the `full_num_data` and `full_cat_data` into one called `full_data`"
   ]
  },
  {
   "cell_type": "code",
   "execution_count": 42,
   "id": "dc3bf6c1",
   "metadata": {},
   "outputs": [],
   "source": [
    "full_data = pd.concat([full_num_data, full_cat_data.iloc[full_num_data.index, :]], axis=1).drop('Engine', axis=1)\n",
    "\n",
    "full_data.head()"
   ]
  },
  {
   "cell_type": "markdown",
   "id": "96f92c97",
   "metadata": {},
   "source": [
    "# Data Preprocessing <a name='data_preprocessing'></a>"
   ]
  },
  {
   "cell_type": "markdown",
   "id": "485931f2",
   "metadata": {},
   "source": [
    "## Train Test Split <a name='train_test_split'></a>"
   ]
  },
  {
   "cell_type": "code",
   "execution_count": 43,
   "id": "af17168e",
   "metadata": {},
   "outputs": [],
   "source": [
    "from sklearn.model_selection import train_test_split\n",
    "\n",
    "X = full_data.drop('Price', axis=1)\n",
    "y = full_data[['Price']]\n",
    "\n",
    "X_train, X_test, y_train, y_test = train_test_split(\n",
    "    X,\n",
    "    y,\n",
    "    test_size=0.2,\n",
    "    random_state=1\n",
    ")"
   ]
  },
  {
   "cell_type": "code",
   "execution_count": 44,
   "id": "43e25dd8",
   "metadata": {},
   "outputs": [],
   "source": [
    "X_train_num = X_train.select_dtypes(exclude='object')\n",
    "X_train_cat = X_train.select_dtypes(include='object')"
   ]
  },
  {
   "cell_type": "markdown",
   "id": "cdd7927d",
   "metadata": {},
   "source": [
    "## Categorical Pipeline <a name='cat_pipeline'></a>"
   ]
  },
  {
   "cell_type": "markdown",
   "id": "a3495016",
   "metadata": {},
   "source": [
    "### Transmission Transformation <a name='transmission_transform'></a>"
   ]
  },
  {
   "cell_type": "code",
   "execution_count": 45,
   "id": "795e1fbd",
   "metadata": {},
   "outputs": [],
   "source": [
    "X_train['Transmission'].unique()"
   ]
  },
  {
   "cell_type": "markdown",
   "id": "709ecf03",
   "metadata": {},
   "source": [
    "We will transform `Transmission` column into 2 columns called `MainTransmission` which contains $\\{'Manual',\\;'Automatic',\\;'CVT'\\}$ and `SpeedTransmission` which contains the number of speed from transmission."
   ]
  },
  {
   "cell_type": "code",
   "execution_count": 46,
   "id": "e352b566",
   "metadata": {},
   "outputs": [],
   "source": [
    "from sklearn.pipeline import make_pipeline\n",
    "from sklearn.base import BaseEstimator, TransformerMixin\n",
    "\n",
    "class TransmissionTransform(BaseEstimator, TransformerMixin):\n",
    "    def fit(self, X, y=None):\n",
    "        return self\n",
    "    \n",
    "    def transform(self, X, y=None):\n",
    "        main_transmission_temp = X['Transmission']\n",
    "        \n",
    "        for item in ['manual', 'automatic', 'cvt']:\n",
    "            index_transmission = X['Transmission'].str.contains(item, case=False, na=False)\n",
    "            \n",
    "            main_transmission_temp[index_transmission] = item\n",
    "            \n",
    "        speed_transmission = pd.to_numeric(X_train['Transmission'].str.split(expand=True)[0], errors='coerce')\n",
    "        \n",
    "        X['MainTransmission'] = main_transmission_temp\n",
    "        X['SpeedTransmission'] = speed_transmission\n",
    "        \n",
    "        return X.drop('Transmission', axis=1)"
   ]
  },
  {
   "cell_type": "markdown",
   "id": "17ff8fd5",
   "metadata": {},
   "source": [
    "### Encoding Categorical <a name='encoding_cat'></a>"
   ]
  },
  {
   "cell_type": "code",
   "execution_count": 47,
   "id": "94de15f3",
   "metadata": {},
   "outputs": [],
   "source": [
    "from sklearn.compose import ColumnTransformer\n",
    "from sklearn.impute import SimpleImputer\n",
    "from sklearn.preprocessing import OneHotEncoder, StandardScaler\n",
    "\n",
    "categorical_impute = SimpleImputer(\n",
    "    strategy='most_frequent'\n",
    ")\n",
    "\n",
    "speed_transmission_impute = SimpleImputer(\n",
    "    strategy='constant',\n",
    "    fill_value=0\n",
    ")\n",
    "\n",
    "one_hot_enc = OneHotEncoder(\n",
    "    handle_unknown='ignore',\n",
    "    min_frequency=0.001\n",
    ")\n",
    "\n",
    "cat_enc_pipeline = make_pipeline(\n",
    "    categorical_impute,\n",
    "    one_hot_enc\n",
    ")\n",
    "\n",
    "cat_columns = ['Make', 'Model', 'BodyType', 'Drivetrain', 'ExteriorColour',\n",
    "               'InteriorColour', 'FuelType', 'MainTransmission']\n",
    "\n",
    "impute_and_encode = ColumnTransformer([\n",
    "    ('EncodingCategorical', cat_enc_pipeline, cat_columns),\n",
    "    ('SpeedTransmissionImpute', speed_transmission_impute, ['SpeedTransmission'])\n",
    "])\n",
    "\n",
    "cat_pipeline = make_pipeline(\n",
    "    TransmissionTransform(),\n",
    "    impute_and_encode\n",
    ")\n",
    "\n",
    "cat_pipeline"
   ]
  },
  {
   "cell_type": "markdown",
   "id": "649ce99e",
   "metadata": {},
   "source": [
    "### Categorical Features Selection <a name='cat_features_selection'></a>"
   ]
  },
  {
   "cell_type": "code",
   "execution_count": 48,
   "id": "7abafef6",
   "metadata": {},
   "outputs": [],
   "source": [
    "from sklearn.feature_selection import SelectKBest, f_regression\n",
    "\n",
    "select_cat_pipeline = make_pipeline(\n",
    "    cat_pipeline,\n",
    "    SelectKBest(f_regression, k=64)\n",
    ")"
   ]
  },
  {
   "cell_type": "markdown",
   "id": "1facf8ff",
   "metadata": {},
   "source": [
    "## Numerical Pipeline <a name='num_pipeline'></a>"
   ]
  },
  {
   "cell_type": "markdown",
   "id": "ac6f31d0",
   "metadata": {},
   "source": [
    "### New Feature: Mileage (Kilometres/Car's Age) <a name='new_feature_mileage'></a>"
   ]
  },
  {
   "cell_type": "markdown",
   "id": "6537d05a",
   "metadata": {},
   "source": [
    "In this section, we will add new feature by combining the `Kilometres` and car's age (Current year - `Year`)."
   ]
  },
  {
   "cell_type": "code",
   "execution_count": 49,
   "id": "709483be",
   "metadata": {},
   "outputs": [],
   "source": [
    "class MileageFeatures(BaseEstimator, TransformerMixin):\n",
    "    def fit(self, X, y=None):\n",
    "        return self\n",
    "    \n",
    "    def transform(self, X, y=None):\n",
    "        X['Mileage'] = X['Kilometres'] / (2023 - X['Year'] + 0.3)\n",
    "        \n",
    "        return X"
   ]
  },
  {
   "cell_type": "markdown",
   "id": "93ec2343",
   "metadata": {},
   "source": [
    "### Numerical Impute <a name='num_impute'></a>"
   ]
  },
  {
   "cell_type": "markdown",
   "id": "2610caf7",
   "metadata": {},
   "source": [
    "Note: since there is feature with integer data type, i.e. `Doors`, we will impute it with `strategy='most_frequent'`."
   ]
  },
  {
   "cell_type": "code",
   "execution_count": 50,
   "id": "6f8567e4",
   "metadata": {},
   "outputs": [],
   "source": [
    "from sklearn.impute import SimpleImputer\n",
    "\n",
    "num_impute = ColumnTransformer([\n",
    "    ('impute_num', SimpleImputer(strategy='median'), ['Year', 'Kilometres', 'City', 'Highway']),\n",
    "    ('impute_doors', SimpleImputer(strategy='most_frequent'), ['Doors', 'EngineSize', 'EngineCylinder'])\n",
    "])\n",
    "\n",
    "num_impute"
   ]
  },
  {
   "cell_type": "markdown",
   "id": "921abad2",
   "metadata": {},
   "source": [
    "### Numerical Standard Scale <a name='num_scale'></a>"
   ]
  },
  {
   "cell_type": "code",
   "execution_count": 51,
   "id": "2a09e494",
   "metadata": {},
   "outputs": [],
   "source": [
    "num_pipeline = make_pipeline(\n",
    "    MileageFeatures(),\n",
    "    num_impute,\n",
    "    StandardScaler()\n",
    ")\n",
    "\n",
    "num_pipeline"
   ]
  },
  {
   "cell_type": "markdown",
   "id": "b949cb99",
   "metadata": {},
   "source": [
    "## Full Pipeline <a name='full_pipeline'></a>"
   ]
  },
  {
   "cell_type": "code",
   "execution_count": 52,
   "id": "72676e9f",
   "metadata": {},
   "outputs": [],
   "source": [
    "combine_pipeline = ColumnTransformer([\n",
    "    ('numerical_pipeline', num_pipeline, X_train_num.columns),\n",
    "    ('cat_pipeline', select_cat_pipeline, X_train_cat.columns)\n",
    "])\n",
    "\n",
    "full_pipeline = make_pipeline(\n",
    "    combine_pipeline\n",
    ")\n",
    "\n",
    "full_pipeline"
   ]
  },
  {
   "cell_type": "markdown",
   "id": "5d2b4734",
   "metadata": {},
   "source": [
    "## Data Transformation <a name='data_trans'></a>"
   ]
  },
  {
   "cell_type": "code",
   "execution_count": 53,
   "id": "270afab0",
   "metadata": {},
   "outputs": [],
   "source": [
    "full_pipeline.fit(X_train, y_train)"
   ]
  },
  {
   "cell_type": "code",
   "execution_count": 54,
   "id": "a81c00c2",
   "metadata": {},
   "outputs": [],
   "source": [
    "X_train_trans = full_pipeline.transform(X_train).toarray()\n",
    "X_test_trans = full_pipeline.transform(X_test).toarray()\n",
    "\n",
    "y_train_trans = np.array(y_train)\n",
    "y_test_trans = np.array(y_test)"
   ]
  },
  {
   "cell_type": "code",
   "execution_count": 55,
   "id": "af395dd3",
   "metadata": {},
   "outputs": [],
   "source": [
    "full_train = np.concatenate([X_train_trans, y_train_trans], axis=1)"
   ]
  },
  {
   "cell_type": "markdown",
   "id": "3fa52379",
   "metadata": {},
   "source": [
    "# Modeling <a name='modeling'></a>"
   ]
  },
  {
   "cell_type": "markdown",
   "id": "f036bfc7",
   "metadata": {},
   "source": [
    "## Automation ML <a name='auto_ml'></a>"
   ]
  },
  {
   "cell_type": "code",
   "execution_count": 57,
   "id": "f0c5447e",
   "metadata": {},
   "outputs": [
    {
     "data": {
      "text/html": [
       "<style type=\"text/css\">\n",
       "</style>\n",
       "<table id=\"T_c78ff\">\n",
       "  <thead>\n",
       "    <tr>\n",
       "      <th class=\"blank level0\" >&nbsp;</th>\n",
       "      <th id=\"T_c78ff_level0_col0\" class=\"col_heading level0 col0\" >Description</th>\n",
       "      <th id=\"T_c78ff_level0_col1\" class=\"col_heading level0 col1\" >Value</th>\n",
       "    </tr>\n",
       "  </thead>\n",
       "  <tbody>\n",
       "    <tr>\n",
       "      <th id=\"T_c78ff_level0_row0\" class=\"row_heading level0 row0\" >0</th>\n",
       "      <td id=\"T_c78ff_row0_col0\" class=\"data row0 col0\" >Session id</td>\n",
       "      <td id=\"T_c78ff_row0_col1\" class=\"data row0 col1\" >0</td>\n",
       "    </tr>\n",
       "    <tr>\n",
       "      <th id=\"T_c78ff_level0_row1\" class=\"row_heading level0 row1\" >1</th>\n",
       "      <td id=\"T_c78ff_row1_col0\" class=\"data row1 col0\" >Target</td>\n",
       "      <td id=\"T_c78ff_row1_col1\" class=\"data row1 col1\" >feature_72</td>\n",
       "    </tr>\n",
       "    <tr>\n",
       "      <th id=\"T_c78ff_level0_row2\" class=\"row_heading level0 row2\" >2</th>\n",
       "      <td id=\"T_c78ff_row2_col0\" class=\"data row2 col0\" >Target type</td>\n",
       "      <td id=\"T_c78ff_row2_col1\" class=\"data row2 col1\" >Regression</td>\n",
       "    </tr>\n",
       "    <tr>\n",
       "      <th id=\"T_c78ff_level0_row3\" class=\"row_heading level0 row3\" >3</th>\n",
       "      <td id=\"T_c78ff_row3_col0\" class=\"data row3 col0\" >Original data shape</td>\n",
       "      <td id=\"T_c78ff_row3_col1\" class=\"data row3 col1\" >(17903, 72)</td>\n",
       "    </tr>\n",
       "    <tr>\n",
       "      <th id=\"T_c78ff_level0_row4\" class=\"row_heading level0 row4\" >4</th>\n",
       "      <td id=\"T_c78ff_row4_col0\" class=\"data row4 col0\" >Transformed data shape</td>\n",
       "      <td id=\"T_c78ff_row4_col1\" class=\"data row4 col1\" >(17903, 72)</td>\n",
       "    </tr>\n",
       "    <tr>\n",
       "      <th id=\"T_c78ff_level0_row5\" class=\"row_heading level0 row5\" >5</th>\n",
       "      <td id=\"T_c78ff_row5_col0\" class=\"data row5 col0\" >Transformed train set shape</td>\n",
       "      <td id=\"T_c78ff_row5_col1\" class=\"data row5 col1\" >(15217, 72)</td>\n",
       "    </tr>\n",
       "    <tr>\n",
       "      <th id=\"T_c78ff_level0_row6\" class=\"row_heading level0 row6\" >6</th>\n",
       "      <td id=\"T_c78ff_row6_col0\" class=\"data row6 col0\" >Transformed test set shape</td>\n",
       "      <td id=\"T_c78ff_row6_col1\" class=\"data row6 col1\" >(2686, 72)</td>\n",
       "    </tr>\n",
       "    <tr>\n",
       "      <th id=\"T_c78ff_level0_row7\" class=\"row_heading level0 row7\" >7</th>\n",
       "      <td id=\"T_c78ff_row7_col0\" class=\"data row7 col0\" >Numeric features</td>\n",
       "      <td id=\"T_c78ff_row7_col1\" class=\"data row7 col1\" >71</td>\n",
       "    </tr>\n",
       "  </tbody>\n",
       "</table>\n"
      ],
      "text/plain": [
       "<pandas.io.formats.style.Styler at 0x7f8087ae1b10>"
      ]
     },
     "metadata": {},
     "output_type": "display_data"
    }
   ],
   "source": [
    "from pycaret import regression\n",
    "\n",
    "regression_setup = regression.setup(\n",
    "    data=full_train,\n",
    "    target=-1,\n",
    "    train_size=0.85,\n",
    "    preprocess=False,\n",
    "    session_id=0\n",
    ")"
   ]
  },
  {
   "cell_type": "code",
   "execution_count": 58,
   "id": "de6474fe",
   "metadata": {},
   "outputs": [
    {
     "data": {
      "text/html": [],
      "text/plain": [
       "<IPython.core.display.HTML object>"
      ]
     },
     "metadata": {},
     "output_type": "display_data"
    },
    {
     "data": {
      "text/html": [
       "<style type=\"text/css\">\n",
       "#T_3dbd1 th {\n",
       "  text-align: left;\n",
       "}\n",
       "#T_3dbd1_row0_col0, #T_3dbd1_row1_col0, #T_3dbd1_row1_col1, #T_3dbd1_row1_col2, #T_3dbd1_row1_col3, #T_3dbd1_row1_col4, #T_3dbd1_row1_col5, #T_3dbd1_row1_col6, #T_3dbd1_row2_col0, #T_3dbd1_row2_col1, #T_3dbd1_row2_col2, #T_3dbd1_row2_col3, #T_3dbd1_row2_col4, #T_3dbd1_row2_col5, #T_3dbd1_row2_col6, #T_3dbd1_row3_col0, #T_3dbd1_row3_col1, #T_3dbd1_row3_col2, #T_3dbd1_row3_col3, #T_3dbd1_row3_col4, #T_3dbd1_row3_col5, #T_3dbd1_row3_col6, #T_3dbd1_row4_col0, #T_3dbd1_row4_col1, #T_3dbd1_row4_col2, #T_3dbd1_row4_col3, #T_3dbd1_row4_col4, #T_3dbd1_row4_col5, #T_3dbd1_row4_col6, #T_3dbd1_row5_col0, #T_3dbd1_row5_col1, #T_3dbd1_row5_col2, #T_3dbd1_row5_col3, #T_3dbd1_row5_col4, #T_3dbd1_row5_col5, #T_3dbd1_row5_col6, #T_3dbd1_row6_col0, #T_3dbd1_row6_col1, #T_3dbd1_row6_col2, #T_3dbd1_row6_col3, #T_3dbd1_row6_col4, #T_3dbd1_row6_col5, #T_3dbd1_row6_col6, #T_3dbd1_row7_col0, #T_3dbd1_row7_col1, #T_3dbd1_row7_col2, #T_3dbd1_row7_col3, #T_3dbd1_row7_col4, #T_3dbd1_row7_col5, #T_3dbd1_row7_col6, #T_3dbd1_row8_col0, #T_3dbd1_row8_col1, #T_3dbd1_row8_col2, #T_3dbd1_row8_col3, #T_3dbd1_row8_col4, #T_3dbd1_row8_col5, #T_3dbd1_row8_col6, #T_3dbd1_row9_col0, #T_3dbd1_row9_col1, #T_3dbd1_row9_col2, #T_3dbd1_row9_col3, #T_3dbd1_row9_col4, #T_3dbd1_row9_col5, #T_3dbd1_row9_col6, #T_3dbd1_row10_col0, #T_3dbd1_row10_col1, #T_3dbd1_row10_col2, #T_3dbd1_row10_col3, #T_3dbd1_row10_col4, #T_3dbd1_row10_col5, #T_3dbd1_row10_col6, #T_3dbd1_row11_col0, #T_3dbd1_row11_col1, #T_3dbd1_row11_col2, #T_3dbd1_row11_col3, #T_3dbd1_row11_col4, #T_3dbd1_row11_col5, #T_3dbd1_row11_col6, #T_3dbd1_row12_col0, #T_3dbd1_row12_col1, #T_3dbd1_row12_col2, #T_3dbd1_row12_col3, #T_3dbd1_row12_col4, #T_3dbd1_row12_col5, #T_3dbd1_row12_col6, #T_3dbd1_row13_col0, #T_3dbd1_row13_col1, #T_3dbd1_row13_col2, #T_3dbd1_row13_col3, #T_3dbd1_row13_col4, #T_3dbd1_row13_col5, #T_3dbd1_row13_col6, #T_3dbd1_row14_col0, #T_3dbd1_row14_col1, #T_3dbd1_row14_col2, #T_3dbd1_row14_col3, #T_3dbd1_row14_col4, #T_3dbd1_row14_col5, #T_3dbd1_row14_col6, #T_3dbd1_row15_col0, #T_3dbd1_row15_col1, #T_3dbd1_row15_col2, #T_3dbd1_row15_col3, #T_3dbd1_row15_col4, #T_3dbd1_row15_col5, #T_3dbd1_row15_col6, #T_3dbd1_row16_col0, #T_3dbd1_row16_col1, #T_3dbd1_row16_col2, #T_3dbd1_row16_col3, #T_3dbd1_row16_col4, #T_3dbd1_row16_col5, #T_3dbd1_row16_col6, #T_3dbd1_row17_col0, #T_3dbd1_row17_col1, #T_3dbd1_row17_col2, #T_3dbd1_row17_col3, #T_3dbd1_row17_col4, #T_3dbd1_row17_col5, #T_3dbd1_row17_col6, #T_3dbd1_row18_col0, #T_3dbd1_row18_col1, #T_3dbd1_row18_col2, #T_3dbd1_row18_col3, #T_3dbd1_row18_col4, #T_3dbd1_row18_col5, #T_3dbd1_row18_col6 {\n",
       "  text-align: left;\n",
       "}\n",
       "#T_3dbd1_row0_col1, #T_3dbd1_row0_col2, #T_3dbd1_row0_col3, #T_3dbd1_row0_col4, #T_3dbd1_row0_col5, #T_3dbd1_row0_col6 {\n",
       "  text-align: left;\n",
       "  background-color: yellow;\n",
       "}\n",
       "#T_3dbd1_row0_col7, #T_3dbd1_row1_col7, #T_3dbd1_row2_col7, #T_3dbd1_row3_col7, #T_3dbd1_row4_col7, #T_3dbd1_row5_col7, #T_3dbd1_row6_col7, #T_3dbd1_row7_col7, #T_3dbd1_row8_col7, #T_3dbd1_row9_col7, #T_3dbd1_row10_col7, #T_3dbd1_row11_col7, #T_3dbd1_row13_col7, #T_3dbd1_row14_col7, #T_3dbd1_row15_col7, #T_3dbd1_row16_col7, #T_3dbd1_row17_col7, #T_3dbd1_row18_col7 {\n",
       "  text-align: left;\n",
       "  background-color: lightgrey;\n",
       "}\n",
       "#T_3dbd1_row12_col7 {\n",
       "  text-align: left;\n",
       "  background-color: yellow;\n",
       "  background-color: lightgrey;\n",
       "}\n",
       "</style>\n",
       "<table id=\"T_3dbd1\">\n",
       "  <thead>\n",
       "    <tr>\n",
       "      <th class=\"blank level0\" >&nbsp;</th>\n",
       "      <th id=\"T_3dbd1_level0_col0\" class=\"col_heading level0 col0\" >Model</th>\n",
       "      <th id=\"T_3dbd1_level0_col1\" class=\"col_heading level0 col1\" >MAE</th>\n",
       "      <th id=\"T_3dbd1_level0_col2\" class=\"col_heading level0 col2\" >MSE</th>\n",
       "      <th id=\"T_3dbd1_level0_col3\" class=\"col_heading level0 col3\" >RMSE</th>\n",
       "      <th id=\"T_3dbd1_level0_col4\" class=\"col_heading level0 col4\" >R2</th>\n",
       "      <th id=\"T_3dbd1_level0_col5\" class=\"col_heading level0 col5\" >RMSLE</th>\n",
       "      <th id=\"T_3dbd1_level0_col6\" class=\"col_heading level0 col6\" >MAPE</th>\n",
       "      <th id=\"T_3dbd1_level0_col7\" class=\"col_heading level0 col7\" >TT (Sec)</th>\n",
       "    </tr>\n",
       "  </thead>\n",
       "  <tbody>\n",
       "    <tr>\n",
       "      <th id=\"T_3dbd1_level0_row0\" class=\"row_heading level0 row0\" >rf</th>\n",
       "      <td id=\"T_3dbd1_row0_col0\" class=\"data row0 col0\" >Random Forest Regressor</td>\n",
       "      <td id=\"T_3dbd1_row0_col1\" class=\"data row0 col1\" >5416.5894</td>\n",
       "      <td id=\"T_3dbd1_row0_col2\" class=\"data row0 col2\" >83230598.4657</td>\n",
       "      <td id=\"T_3dbd1_row0_col3\" class=\"data row0 col3\" >9115.3230</td>\n",
       "      <td id=\"T_3dbd1_row0_col4\" class=\"data row0 col4\" >0.8372</td>\n",
       "      <td id=\"T_3dbd1_row0_col5\" class=\"data row0 col5\" >0.2501</td>\n",
       "      <td id=\"T_3dbd1_row0_col6\" class=\"data row0 col6\" >0.1735</td>\n",
       "      <td id=\"T_3dbd1_row0_col7\" class=\"data row0 col7\" >4.0900</td>\n",
       "    </tr>\n",
       "    <tr>\n",
       "      <th id=\"T_3dbd1_level0_row1\" class=\"row_heading level0 row1\" >xgboost</th>\n",
       "      <td id=\"T_3dbd1_row1_col0\" class=\"data row1 col0\" >Extreme Gradient Boosting</td>\n",
       "      <td id=\"T_3dbd1_row1_col1\" class=\"data row1 col1\" >5855.4982</td>\n",
       "      <td id=\"T_3dbd1_row1_col2\" class=\"data row1 col2\" >85995549.6000</td>\n",
       "      <td id=\"T_3dbd1_row1_col3\" class=\"data row1 col3\" >9268.1446</td>\n",
       "      <td id=\"T_3dbd1_row1_col4\" class=\"data row1 col4\" >0.8318</td>\n",
       "      <td id=\"T_3dbd1_row1_col5\" class=\"data row1 col5\" >0.2552</td>\n",
       "      <td id=\"T_3dbd1_row1_col6\" class=\"data row1 col6\" >0.1839</td>\n",
       "      <td id=\"T_3dbd1_row1_col7\" class=\"data row1 col7\" >2.2090</td>\n",
       "    </tr>\n",
       "    <tr>\n",
       "      <th id=\"T_3dbd1_level0_row2\" class=\"row_heading level0 row2\" >et</th>\n",
       "      <td id=\"T_3dbd1_row2_col0\" class=\"data row2 col0\" >Extra Trees Regressor</td>\n",
       "      <td id=\"T_3dbd1_row2_col1\" class=\"data row2 col1\" >5540.5236</td>\n",
       "      <td id=\"T_3dbd1_row2_col2\" class=\"data row2 col2\" >89598246.2923</td>\n",
       "      <td id=\"T_3dbd1_row2_col3\" class=\"data row2 col3\" >9459.8372</td>\n",
       "      <td id=\"T_3dbd1_row2_col4\" class=\"data row2 col4\" >0.8247</td>\n",
       "      <td id=\"T_3dbd1_row2_col5\" class=\"data row2 col5\" >0.2546</td>\n",
       "      <td id=\"T_3dbd1_row2_col6\" class=\"data row2 col6\" >0.1773</td>\n",
       "      <td id=\"T_3dbd1_row2_col7\" class=\"data row2 col7\" >5.1030</td>\n",
       "    </tr>\n",
       "    <tr>\n",
       "      <th id=\"T_3dbd1_level0_row3\" class=\"row_heading level0 row3\" >lightgbm</th>\n",
       "      <td id=\"T_3dbd1_row3_col0\" class=\"data row3 col0\" >Light Gradient Boosting Machine</td>\n",
       "      <td id=\"T_3dbd1_row3_col1\" class=\"data row3 col1\" >6137.2413</td>\n",
       "      <td id=\"T_3dbd1_row3_col2\" class=\"data row3 col2\" >91194556.6031</td>\n",
       "      <td id=\"T_3dbd1_row3_col3\" class=\"data row3 col3\" >9541.5804</td>\n",
       "      <td id=\"T_3dbd1_row3_col4\" class=\"data row3 col4\" >0.8218</td>\n",
       "      <td id=\"T_3dbd1_row3_col5\" class=\"data row3 col5\" >0.2563</td>\n",
       "      <td id=\"T_3dbd1_row3_col6\" class=\"data row3 col6\" >0.1903</td>\n",
       "      <td id=\"T_3dbd1_row3_col7\" class=\"data row3 col7\" >0.2370</td>\n",
       "    </tr>\n",
       "    <tr>\n",
       "      <th id=\"T_3dbd1_level0_row4\" class=\"row_heading level0 row4\" >gbr</th>\n",
       "      <td id=\"T_3dbd1_row4_col0\" class=\"data row4 col0\" >Gradient Boosting Regressor</td>\n",
       "      <td id=\"T_3dbd1_row4_col1\" class=\"data row4 col1\" >7275.7981</td>\n",
       "      <td id=\"T_3dbd1_row4_col2\" class=\"data row4 col2\" >114854233.9770</td>\n",
       "      <td id=\"T_3dbd1_row4_col3\" class=\"data row4 col3\" >10710.8557</td>\n",
       "      <td id=\"T_3dbd1_row4_col4\" class=\"data row4 col4\" >0.7754</td>\n",
       "      <td id=\"T_3dbd1_row4_col5\" class=\"data row4 col5\" >0.2855</td>\n",
       "      <td id=\"T_3dbd1_row4_col6\" class=\"data row4 col6\" >0.2263</td>\n",
       "      <td id=\"T_3dbd1_row4_col7\" class=\"data row4 col7\" >0.8830</td>\n",
       "    </tr>\n",
       "    <tr>\n",
       "      <th id=\"T_3dbd1_level0_row5\" class=\"row_heading level0 row5\" >knn</th>\n",
       "      <td id=\"T_3dbd1_row5_col0\" class=\"data row5 col0\" >K Neighbors Regressor</td>\n",
       "      <td id=\"T_3dbd1_row5_col1\" class=\"data row5 col1\" >8167.1527</td>\n",
       "      <td id=\"T_3dbd1_row5_col2\" class=\"data row5 col2\" >148104238.4000</td>\n",
       "      <td id=\"T_3dbd1_row5_col3\" class=\"data row5 col3\" >12164.2917</td>\n",
       "      <td id=\"T_3dbd1_row5_col4\" class=\"data row5 col4\" >0.7103</td>\n",
       "      <td id=\"T_3dbd1_row5_col5\" class=\"data row5 col5\" >0.3142</td>\n",
       "      <td id=\"T_3dbd1_row5_col6\" class=\"data row5 col6\" >0.2534</td>\n",
       "      <td id=\"T_3dbd1_row5_col7\" class=\"data row5 col7\" >0.1130</td>\n",
       "    </tr>\n",
       "    <tr>\n",
       "      <th id=\"T_3dbd1_level0_row6\" class=\"row_heading level0 row6\" >dt</th>\n",
       "      <td id=\"T_3dbd1_row6_col0\" class=\"data row6 col0\" >Decision Tree Regressor</td>\n",
       "      <td id=\"T_3dbd1_row6_col1\" class=\"data row6 col1\" >6764.4156</td>\n",
       "      <td id=\"T_3dbd1_row6_col2\" class=\"data row6 col2\" >150006154.5566</td>\n",
       "      <td id=\"T_3dbd1_row6_col3\" class=\"data row6 col3\" >12232.1519</td>\n",
       "      <td id=\"T_3dbd1_row6_col4\" class=\"data row6 col4\" >0.7066</td>\n",
       "      <td id=\"T_3dbd1_row6_col5\" class=\"data row6 col5\" >0.3336</td>\n",
       "      <td id=\"T_3dbd1_row6_col6\" class=\"data row6 col6\" >0.2138</td>\n",
       "      <td id=\"T_3dbd1_row6_col7\" class=\"data row6 col7\" >0.1440</td>\n",
       "    </tr>\n",
       "    <tr>\n",
       "      <th id=\"T_3dbd1_level0_row7\" class=\"row_heading level0 row7\" >lasso</th>\n",
       "      <td id=\"T_3dbd1_row7_col0\" class=\"data row7 col0\" >Lasso Regression</td>\n",
       "      <td id=\"T_3dbd1_row7_col1\" class=\"data row7 col1\" >9622.4008</td>\n",
       "      <td id=\"T_3dbd1_row7_col2\" class=\"data row7 col2\" >175825004.8000</td>\n",
       "      <td id=\"T_3dbd1_row7_col3\" class=\"data row7 col3\" >13255.8854</td>\n",
       "      <td id=\"T_3dbd1_row7_col4\" class=\"data row7 col4\" >0.6561</td>\n",
       "      <td id=\"T_3dbd1_row7_col5\" class=\"data row7 col5\" >0.4739</td>\n",
       "      <td id=\"T_3dbd1_row7_col6\" class=\"data row7 col6\" >0.3312</td>\n",
       "      <td id=\"T_3dbd1_row7_col7\" class=\"data row7 col7\" >0.2520</td>\n",
       "    </tr>\n",
       "    <tr>\n",
       "      <th id=\"T_3dbd1_level0_row8\" class=\"row_heading level0 row8\" >llar</th>\n",
       "      <td id=\"T_3dbd1_row8_col0\" class=\"data row8 col0\" >Lasso Least Angle Regression</td>\n",
       "      <td id=\"T_3dbd1_row8_col1\" class=\"data row8 col1\" >9623.8720</td>\n",
       "      <td id=\"T_3dbd1_row8_col2\" class=\"data row8 col2\" >175908187.2000</td>\n",
       "      <td id=\"T_3dbd1_row8_col3\" class=\"data row8 col3\" >13259.0250</td>\n",
       "      <td id=\"T_3dbd1_row8_col4\" class=\"data row8 col4\" >0.6560</td>\n",
       "      <td id=\"T_3dbd1_row8_col5\" class=\"data row8 col5\" >0.4704</td>\n",
       "      <td id=\"T_3dbd1_row8_col6\" class=\"data row8 col6\" >0.3313</td>\n",
       "      <td id=\"T_3dbd1_row8_col7\" class=\"data row8 col7\" >0.0600</td>\n",
       "    </tr>\n",
       "    <tr>\n",
       "      <th id=\"T_3dbd1_level0_row9\" class=\"row_heading level0 row9\" >br</th>\n",
       "      <td id=\"T_3dbd1_row9_col0\" class=\"data row9 col0\" >Bayesian Ridge</td>\n",
       "      <td id=\"T_3dbd1_row9_col1\" class=\"data row9 col1\" >9628.1668</td>\n",
       "      <td id=\"T_3dbd1_row9_col2\" class=\"data row9 col2\" >176220321.6000</td>\n",
       "      <td id=\"T_3dbd1_row9_col3\" class=\"data row9 col3\" >13270.8482</td>\n",
       "      <td id=\"T_3dbd1_row9_col4\" class=\"data row9 col4\" >0.6554</td>\n",
       "      <td id=\"T_3dbd1_row9_col5\" class=\"data row9 col5\" >0.4745</td>\n",
       "      <td id=\"T_3dbd1_row9_col6\" class=\"data row9 col6\" >0.3313</td>\n",
       "      <td id=\"T_3dbd1_row9_col7\" class=\"data row9 col7\" >0.1860</td>\n",
       "    </tr>\n",
       "    <tr>\n",
       "      <th id=\"T_3dbd1_level0_row10\" class=\"row_heading level0 row10\" >huber</th>\n",
       "      <td id=\"T_3dbd1_row10_col0\" class=\"data row10 col0\" >Huber Regressor</td>\n",
       "      <td id=\"T_3dbd1_row10_col1\" class=\"data row10 col1\" >9200.4753</td>\n",
       "      <td id=\"T_3dbd1_row10_col2\" class=\"data row10 col2\" >191133821.2031</td>\n",
       "      <td id=\"T_3dbd1_row10_col3\" class=\"data row10 col3\" >13815.5740</td>\n",
       "      <td id=\"T_3dbd1_row10_col4\" class=\"data row10 col4\" >0.6263</td>\n",
       "      <td id=\"T_3dbd1_row10_col5\" class=\"data row10 col5\" >0.4603</td>\n",
       "      <td id=\"T_3dbd1_row10_col6\" class=\"data row10 col6\" >0.2904</td>\n",
       "      <td id=\"T_3dbd1_row10_col7\" class=\"data row10 col7\" >0.9840</td>\n",
       "    </tr>\n",
       "    <tr>\n",
       "      <th id=\"T_3dbd1_level0_row11\" class=\"row_heading level0 row11\" >ridge</th>\n",
       "      <td id=\"T_3dbd1_row11_col0\" class=\"data row11 col0\" >Ridge Regression</td>\n",
       "      <td id=\"T_3dbd1_row11_col1\" class=\"data row11 col1\" >9656.7520</td>\n",
       "      <td id=\"T_3dbd1_row11_col2\" class=\"data row11 col2\" >193608192.0000</td>\n",
       "      <td id=\"T_3dbd1_row11_col3\" class=\"data row11 col3\" >13813.4381</td>\n",
       "      <td id=\"T_3dbd1_row11_col4\" class=\"data row11 col4\" >0.6222</td>\n",
       "      <td id=\"T_3dbd1_row11_col5\" class=\"data row11 col5\" >0.4768</td>\n",
       "      <td id=\"T_3dbd1_row11_col6\" class=\"data row11 col6\" >0.3318</td>\n",
       "      <td id=\"T_3dbd1_row11_col7\" class=\"data row11 col7\" >0.0670</td>\n",
       "    </tr>\n",
       "    <tr>\n",
       "      <th id=\"T_3dbd1_level0_row12\" class=\"row_heading level0 row12\" >omp</th>\n",
       "      <td id=\"T_3dbd1_row12_col0\" class=\"data row12 col0\" >Orthogonal Matching Pursuit</td>\n",
       "      <td id=\"T_3dbd1_row12_col1\" class=\"data row12 col1\" >10316.4346</td>\n",
       "      <td id=\"T_3dbd1_row12_col2\" class=\"data row12 col2\" >195563484.8000</td>\n",
       "      <td id=\"T_3dbd1_row12_col3\" class=\"data row12 col3\" >13980.2909</td>\n",
       "      <td id=\"T_3dbd1_row12_col4\" class=\"data row12 col4\" >0.6175</td>\n",
       "      <td id=\"T_3dbd1_row12_col5\" class=\"data row12 col5\" >0.4741</td>\n",
       "      <td id=\"T_3dbd1_row12_col6\" class=\"data row12 col6\" >0.3513</td>\n",
       "      <td id=\"T_3dbd1_row12_col7\" class=\"data row12 col7\" >0.0310</td>\n",
       "    </tr>\n",
       "    <tr>\n",
       "      <th id=\"T_3dbd1_level0_row13\" class=\"row_heading level0 row13\" >par</th>\n",
       "      <td id=\"T_3dbd1_row13_col0\" class=\"data row13 col0\" >Passive Aggressive Regressor</td>\n",
       "      <td id=\"T_3dbd1_row13_col1\" class=\"data row13 col1\" >9208.6334</td>\n",
       "      <td id=\"T_3dbd1_row13_col2\" class=\"data row13 col2\" >198604577.8020</td>\n",
       "      <td id=\"T_3dbd1_row13_col3\" class=\"data row13 col3\" >14081.4768</td>\n",
       "      <td id=\"T_3dbd1_row13_col4\" class=\"data row13 col4\" >0.6117</td>\n",
       "      <td id=\"T_3dbd1_row13_col5\" class=\"data row13 col5\" >0.4580</td>\n",
       "      <td id=\"T_3dbd1_row13_col6\" class=\"data row13 col6\" >0.2852</td>\n",
       "      <td id=\"T_3dbd1_row13_col7\" class=\"data row13 col7\" >0.4450</td>\n",
       "    </tr>\n",
       "    <tr>\n",
       "      <th id=\"T_3dbd1_level0_row14\" class=\"row_heading level0 row14\" >en</th>\n",
       "      <td id=\"T_3dbd1_row14_col0\" class=\"data row14 col0\" >Elastic Net</td>\n",
       "      <td id=\"T_3dbd1_row14_col1\" class=\"data row14 col1\" >10780.4790</td>\n",
       "      <td id=\"T_3dbd1_row14_col2\" class=\"data row14 col2\" >216637120.0000</td>\n",
       "      <td id=\"T_3dbd1_row14_col3\" class=\"data row14 col3\" >14714.4577</td>\n",
       "      <td id=\"T_3dbd1_row14_col4\" class=\"data row14 col4\" >0.5763</td>\n",
       "      <td id=\"T_3dbd1_row14_col5\" class=\"data row14 col5\" >0.4239</td>\n",
       "      <td id=\"T_3dbd1_row14_col6\" class=\"data row14 col6\" >0.3689</td>\n",
       "      <td id=\"T_3dbd1_row14_col7\" class=\"data row14 col7\" >0.0550</td>\n",
       "    </tr>\n",
       "    <tr>\n",
       "      <th id=\"T_3dbd1_level0_row15\" class=\"row_heading level0 row15\" >ada</th>\n",
       "      <td id=\"T_3dbd1_row15_col0\" class=\"data row15 col0\" >AdaBoost Regressor</td>\n",
       "      <td id=\"T_3dbd1_row15_col1\" class=\"data row15 col1\" >12228.7383</td>\n",
       "      <td id=\"T_3dbd1_row15_col2\" class=\"data row15 col2\" >231502377.7114</td>\n",
       "      <td id=\"T_3dbd1_row15_col3\" class=\"data row15 col3\" >15203.6220</td>\n",
       "      <td id=\"T_3dbd1_row15_col4\" class=\"data row15 col4\" >0.5459</td>\n",
       "      <td id=\"T_3dbd1_row15_col5\" class=\"data row15 col5\" >0.4677</td>\n",
       "      <td id=\"T_3dbd1_row15_col6\" class=\"data row15 col6\" >0.4932</td>\n",
       "      <td id=\"T_3dbd1_row15_col7\" class=\"data row15 col7\" >0.9080</td>\n",
       "    </tr>\n",
       "    <tr>\n",
       "      <th id=\"T_3dbd1_level0_row16\" class=\"row_heading level0 row16\" >dummy</th>\n",
       "      <td id=\"T_3dbd1_row16_col0\" class=\"data row16 col0\" >Dummy Regressor</td>\n",
       "      <td id=\"T_3dbd1_row16_col1\" class=\"data row16 col1\" >18465.1953</td>\n",
       "      <td id=\"T_3dbd1_row16_col2\" class=\"data row16 col2\" >511614499.2000</td>\n",
       "      <td id=\"T_3dbd1_row16_col3\" class=\"data row16 col3\" >22616.3166</td>\n",
       "      <td id=\"T_3dbd1_row16_col4\" class=\"data row16 col4\" >-0.0008</td>\n",
       "      <td id=\"T_3dbd1_row16_col5\" class=\"data row16 col5\" >0.6820</td>\n",
       "      <td id=\"T_3dbd1_row16_col6\" class=\"data row16 col6\" >0.8100</td>\n",
       "      <td id=\"T_3dbd1_row16_col7\" class=\"data row16 col7\" >0.0370</td>\n",
       "    </tr>\n",
       "    <tr>\n",
       "      <th id=\"T_3dbd1_level0_row17\" class=\"row_heading level0 row17\" >lr</th>\n",
       "      <td id=\"T_3dbd1_row17_col0\" class=\"data row17 col0\" >Linear Regression</td>\n",
       "      <td id=\"T_3dbd1_row17_col1\" class=\"data row17 col1\" >11324.8432</td>\n",
       "      <td id=\"T_3dbd1_row17_col2\" class=\"data row17 col2\" >44272264256.0000</td>\n",
       "      <td id=\"T_3dbd1_row17_col3\" class=\"data row17 col3\" >78358.7189</td>\n",
       "      <td id=\"T_3dbd1_row17_col4\" class=\"data row17 col4\" >-83.5551</td>\n",
       "      <td id=\"T_3dbd1_row17_col5\" class=\"data row17 col5\" >0.4799</td>\n",
       "      <td id=\"T_3dbd1_row17_col6\" class=\"data row17 col6\" >0.3592</td>\n",
       "      <td id=\"T_3dbd1_row17_col7\" class=\"data row17 col7\" >0.4220</td>\n",
       "    </tr>\n",
       "    <tr>\n",
       "      <th id=\"T_3dbd1_level0_row18\" class=\"row_heading level0 row18\" >lar</th>\n",
       "      <td id=\"T_3dbd1_row18_col0\" class=\"data row18 col0\" >Least Angle Regression</td>\n",
       "      <td id=\"T_3dbd1_row18_col1\" class=\"data row18 col1\" >11339.8346</td>\n",
       "      <td id=\"T_3dbd1_row18_col2\" class=\"data row18 col2\" >44727793544.0000</td>\n",
       "      <td id=\"T_3dbd1_row18_col3\" class=\"data row18 col3\" >78706.8518</td>\n",
       "      <td id=\"T_3dbd1_row18_col4\" class=\"data row18 col4\" >-84.4251</td>\n",
       "      <td id=\"T_3dbd1_row18_col5\" class=\"data row18 col5\" >0.4881</td>\n",
       "      <td id=\"T_3dbd1_row18_col6\" class=\"data row18 col6\" >0.3599</td>\n",
       "      <td id=\"T_3dbd1_row18_col7\" class=\"data row18 col7\" >0.0800</td>\n",
       "    </tr>\n",
       "  </tbody>\n",
       "</table>\n"
      ],
      "text/plain": [
       "<pandas.io.formats.style.Styler at 0x7f8081622950>"
      ]
     },
     "metadata": {},
     "output_type": "display_data"
    },
    {
     "data": {
      "text/html": [],
      "text/plain": [
       "<IPython.core.display.HTML object>"
      ]
     },
     "metadata": {},
     "output_type": "display_data"
    }
   ],
   "source": [
    "models = regression.compare_models()"
   ]
  },
  {
   "cell_type": "markdown",
   "id": "17e766cb",
   "metadata": {},
   "source": [
    "Let's focus on random forest model since it has the highest score."
   ]
  },
  {
   "cell_type": "markdown",
   "id": "42b45aa3",
   "metadata": {},
   "source": [
    "## Random Forest"
   ]
  },
  {
   "cell_type": "code",
   "execution_count": 61,
   "id": "33f436b8",
   "metadata": {},
   "outputs": [
    {
     "data": {
      "text/html": [
       "<style>#sk-container-id-6 {color: black;background-color: white;}#sk-container-id-6 pre{padding: 0;}#sk-container-id-6 div.sk-toggleable {background-color: white;}#sk-container-id-6 label.sk-toggleable__label {cursor: pointer;display: block;width: 100%;margin-bottom: 0;padding: 0.3em;box-sizing: border-box;text-align: center;}#sk-container-id-6 label.sk-toggleable__label-arrow:before {content: \"▸\";float: left;margin-right: 0.25em;color: #696969;}#sk-container-id-6 label.sk-toggleable__label-arrow:hover:before {color: black;}#sk-container-id-6 div.sk-estimator:hover label.sk-toggleable__label-arrow:before {color: black;}#sk-container-id-6 div.sk-toggleable__content {max-height: 0;max-width: 0;overflow: hidden;text-align: left;background-color: #f0f8ff;}#sk-container-id-6 div.sk-toggleable__content pre {margin: 0.2em;color: black;border-radius: 0.25em;background-color: #f0f8ff;}#sk-container-id-6 input.sk-toggleable__control:checked~div.sk-toggleable__content {max-height: 200px;max-width: 100%;overflow: auto;}#sk-container-id-6 input.sk-toggleable__control:checked~label.sk-toggleable__label-arrow:before {content: \"▾\";}#sk-container-id-6 div.sk-estimator input.sk-toggleable__control:checked~label.sk-toggleable__label {background-color: #d4ebff;}#sk-container-id-6 div.sk-label input.sk-toggleable__control:checked~label.sk-toggleable__label {background-color: #d4ebff;}#sk-container-id-6 input.sk-hidden--visually {border: 0;clip: rect(1px 1px 1px 1px);clip: rect(1px, 1px, 1px, 1px);height: 1px;margin: -1px;overflow: hidden;padding: 0;position: absolute;width: 1px;}#sk-container-id-6 div.sk-estimator {font-family: monospace;background-color: #f0f8ff;border: 1px dotted black;border-radius: 0.25em;box-sizing: border-box;margin-bottom: 0.5em;}#sk-container-id-6 div.sk-estimator:hover {background-color: #d4ebff;}#sk-container-id-6 div.sk-parallel-item::after {content: \"\";width: 100%;border-bottom: 1px solid gray;flex-grow: 1;}#sk-container-id-6 div.sk-label:hover label.sk-toggleable__label {background-color: #d4ebff;}#sk-container-id-6 div.sk-serial::before {content: \"\";position: absolute;border-left: 1px solid gray;box-sizing: border-box;top: 0;bottom: 0;left: 50%;z-index: 0;}#sk-container-id-6 div.sk-serial {display: flex;flex-direction: column;align-items: center;background-color: white;padding-right: 0.2em;padding-left: 0.2em;position: relative;}#sk-container-id-6 div.sk-item {position: relative;z-index: 1;}#sk-container-id-6 div.sk-parallel {display: flex;align-items: stretch;justify-content: center;background-color: white;position: relative;}#sk-container-id-6 div.sk-item::before, #sk-container-id-6 div.sk-parallel-item::before {content: \"\";position: absolute;border-left: 1px solid gray;box-sizing: border-box;top: 0;bottom: 0;left: 50%;z-index: -1;}#sk-container-id-6 div.sk-parallel-item {display: flex;flex-direction: column;z-index: 1;position: relative;background-color: white;}#sk-container-id-6 div.sk-parallel-item:first-child::after {align-self: flex-end;width: 50%;}#sk-container-id-6 div.sk-parallel-item:last-child::after {align-self: flex-start;width: 50%;}#sk-container-id-6 div.sk-parallel-item:only-child::after {width: 0;}#sk-container-id-6 div.sk-dashed-wrapped {border: 1px dashed gray;margin: 0 0.4em 0.5em 0.4em;box-sizing: border-box;padding-bottom: 0.4em;background-color: white;}#sk-container-id-6 div.sk-label label {font-family: monospace;font-weight: bold;display: inline-block;line-height: 1.2em;}#sk-container-id-6 div.sk-label-container {text-align: center;}#sk-container-id-6 div.sk-container {/* jupyter's `normalize.less` sets `[hidden] { display: none; }` but bootstrap.min.css set `[hidden] { display: none !important; }` so we also need the `!important` here to be able to override the default hidden behavior on the sphinx rendered scikit-learn.org. See: https://github.com/scikit-learn/scikit-learn/issues/21755 */display: inline-block !important;position: relative;}#sk-container-id-6 div.sk-text-repr-fallback {display: none;}</style><div id=\"sk-container-id-6\" class=\"sk-top-container\"><div class=\"sk-text-repr-fallback\"><pre>RandomForestRegressor()</pre><b>In a Jupyter environment, please rerun this cell to show the HTML representation or trust the notebook. <br />On GitHub, the HTML representation is unable to render, please try loading this page with nbviewer.org.</b></div><div class=\"sk-container\" hidden><div class=\"sk-item\"><div class=\"sk-estimator sk-toggleable\"><input class=\"sk-toggleable__control sk-hidden--visually\" id=\"sk-estimator-id-62\" type=\"checkbox\" checked><label for=\"sk-estimator-id-62\" class=\"sk-toggleable__label sk-toggleable__label-arrow\">RandomForestRegressor</label><div class=\"sk-toggleable__content\"><pre>RandomForestRegressor()</pre></div></div></div></div></div>"
      ],
      "text/plain": [
       "RandomForestRegressor()"
      ]
     },
     "execution_count": 61,
     "metadata": {},
     "output_type": "execute_result"
    }
   ],
   "source": [
    "from sklearn.ensemble import RandomForestRegressor\n",
    "\n",
    "rf_model = RandomForestRegressor()\n",
    "rf_model.fit(X_train_trans, y_train_trans)"
   ]
  },
  {
   "cell_type": "markdown",
   "id": "5a5d4a22",
   "metadata": {},
   "source": [
    "Let's see how good it can predict on our test model"
   ]
  },
  {
   "cell_type": "code",
   "execution_count": 78,
   "id": "29f15406",
   "metadata": {
    "scrolled": false
   },
   "outputs": [
    {
     "data": {
      "image/png": "[encoded data removed]",
      "text/plain": [
       "<Figure size 800x550 with 1 Axes>"
      ]
     },
     "metadata": {},
     "output_type": "display_data"
    },
    {
     "name": "stdout",
     "output_type": "stream",
     "text": [
      "RMSE: 8835.164881692985\n",
      "R2: 0.8423211524402798\n",
      "MAE: 5203.654365008493\n"
     ]
    }
   ],
   "source": [
    "from sklearn.metrics import mean_squared_error, r2_score, mean_absolute_error\n",
    "# Prediction\n",
    "rf_predict = rf_model.predict(X_test_trans)\n",
    "\n",
    "# Evaluate Score\n",
    "rf_mse = mean_squared_error(y_test_trans, rf_predict)\n",
    "rf_rmse = np.sqrt(rf_mse)\n",
    "\n",
    "rf_mae = mean_absolute_error(y_test_trans, rf_predict)\n",
    "\n",
    "rf_r2 = r2_score(y_test_trans, rf_predict)\n",
    "\n",
    "# Plot\n",
    "plt.scatter(\n",
    "    rf_predict,\n",
    "    y_test_trans,\n",
    "    s=3\n",
    ")\n",
    "plt.plot(\n",
    "    [0, 120000],\n",
    "    [0, 120000]\n",
    ")\n",
    "\n",
    "plt.xlim(0, 120000)\n",
    "plt.ylim(0, 120000)\n",
    "\n",
    "plt.title('Prediction vs Actual Price')\n",
    "\n",
    "plt.xlabel('Prediction Price')\n",
    "plt.ylabel('Actual Price')\n",
    "\n",
    "plt.show()\n",
    "\n",
    "print(f'RMSE: {rf_rmse}\\nR2: {rf_r2}\\nMAE: {rf_mae}')"
   ]
  },
  {
   "cell_type": "markdown",
   "id": "e8b8665f",
   "metadata": {},
   "source": [
    "Actually, it's not that bad, the prediction price still follow the actual price, even though it fails when the actual price get higher. Let's do some hyperparamter tuning to see if we can improve the score."
   ]
  }
 ],
 "metadata": {
  "kernelspec": {
   "display_name": "Python 3 (ipykernel)",
   "language": "python",
   "name": "python3"
  },
  "language_info": {
   "codemirror_mode": {
    "name": "ipython",
    "version": 3
   },
   "file_extension": ".py",
   "mimetype": "text/x-python",
   "name": "python",
   "nbconvert_exporter": "python",
   "pygments_lexer": "ipython3",
   "version": "3.11.0"
  }
 },
 "nbformat": 4,
 "nbformat_minor": 5
}
